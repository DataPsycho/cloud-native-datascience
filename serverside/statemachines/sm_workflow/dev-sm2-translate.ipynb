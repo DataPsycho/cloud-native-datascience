{
 "cells": [
  {
   "cell_type": "code",
   "execution_count": 1,
   "id": "025483ea",
   "metadata": {},
   "outputs": [],
   "source": [
    "import os\n",
    "from uuid import uuid4\n",
    "import json\n",
    "from utils import DecimalEncoder\n",
    "import boto3\n",
    "import stepfunctions\n",
    "from stepfunctions import steps\n",
    "from stepfunctions.inputs import ExecutionInput\n",
    "from stepfunctions.template import TrainingPipeline\n",
    "from stepfunctions.template.utils import replace_parameters_with_jsonpath\n",
    "from stepfunctions.workflow import Workflow\n",
    "from sagemaker.processing import ProcessingInput, ProcessingOutput\n",
    "from sagemaker.sklearn.processing import SKLearnProcessor\n",
    "from sagemaker.session import Session\n",
    "\n",
    "from dotenv import load_dotenv"
   ]
  },
  {
   "cell_type": "code",
   "execution_count": 2,
   "id": "e5c98838",
   "metadata": {},
   "outputs": [],
   "source": [
    "assert load_dotenv(\"../../../.env\")"
   ]
  },
  {
   "cell_type": "code",
   "execution_count": null,
   "id": "426c0f7e-9222-4a4b-bfbf-85b7528a3b8d",
   "metadata": {},
   "outputs": [],
   "source": [
    "# BUCKET_ARTIFACT = os.environ[\"ARTIFACT_BUCKET\"]"
   ]
  },
  {
   "cell_type": "code",
   "execution_count": 3,
   "id": "83b0683a",
   "metadata": {},
   "outputs": [],
   "source": [
    "BUCKET = os.environ[\"BUCKET\"]\n",
    "SESSION = boto3.session.Session()\n",
    "DYNAMODB_RESOURCE = SESSION.resource('dynamodb')\n",
    "DYNAMO_TABLE = DYNAMODB_RESOURCE.Table(os.environ['DB_NAME'])\n",
    "SFN_CLIENT = client = boto3.client('stepfunctions')\n",
    "EXECUTION_ROLE = os.environ[\"SAGEMAKER_ARN\"]\n",
    "WORKFLOW_EXECUTION_ROLE = os.environ[\"STEP_FUNCTION_ARN\"]"
   ]
  },
  {
   "cell_type": "code",
   "execution_count": 4,
   "id": "e8a7590b",
   "metadata": {},
   "outputs": [],
   "source": [
    "execution_input = ExecutionInput(\n",
    "    schema={\n",
    "        \"SOURCE_TO_TRANSLATE\": str,\n",
    "        \"SOURCE_MODEL_ARTIFACT\": str,\n",
    "        \"DESTINATION_OUTPUT\": str, \n",
    "        \"ProcessingJobName\": str,\n",
    "        \"input_code\": str,\n",
    "        \"job_pk\": str,\n",
    "        \"job_sk\": str,\n",
    "    }\n",
    ")"
   ]
  },
  {
   "cell_type": "code",
   "execution_count": 5,
   "id": "838ce0b0",
   "metadata": {},
   "outputs": [],
   "source": [
    "input_meta = [\n",
    "        ProcessingInput(\n",
    "            source=execution_input[\"SOURCE_TO_TRANSLATE\"],\n",
    "            destination='/opt/ml/processing/input',\n",
    "            input_name=\"input\"\n",
    "        ),\n",
    "        ProcessingInput(\n",
    "            source=execution_input[\"SOURCE_MODEL_ARTIFACT\"],\n",
    "            destination='/opt/ml/processing/input/model',\n",
    "            input_name=\"model\"\n",
    "            ),\n",
    "        #this is new\n",
    "        ProcessingInput(\n",
    "            source=execution_input[\"input_code\"],\n",
    "            destination=\"/opt/ml/processing/code\",\n",
    "            input_name=\"code\"\n",
    "        ),\n",
    "    ]\n",
    "\n",
    "output_meta = [ \n",
    "        ProcessingOutput(\n",
    "            source='/opt/ml/processing/output',\n",
    "            output_name='output',\n",
    "            destination=execution_input[\"DESTINATION_OUTPUT\"]\n",
    "        ),\n",
    "    ]"
   ]
  },
  {
   "cell_type": "code",
   "execution_count": 6,
   "id": "9f76e147",
   "metadata": {},
   "outputs": [],
   "source": [
    "def get_processing_container_config():\n",
    "    sklearn_processor = SKLearnProcessor(\n",
    "        framework_version='0.20.0',\n",
    "        role=EXECUTION_ROLE,\n",
    "        instance_type='ml.t3.medium',\n",
    "        instance_count=1,\n",
    "        sagemaker_session=Session(default_bucket=os.environ[\"BATCH_JOB_BUCKET\"])\n",
    "    )\n",
    "    return sklearn_processor"
   ]
  },
  {
   "cell_type": "code",
   "execution_count": 7,
   "id": "6d2bd3db",
   "metadata": {},
   "outputs": [],
   "source": [
    "processing_step = steps.ProcessingStep(\n",
    "    \"SageMakerTranslationJob\",\n",
    "    processor=get_processing_container_config(),\n",
    "    job_name=execution_input[\"ProcessingJobName\"],\n",
    "    inputs=input_meta,\n",
    "    outputs=output_meta,\n",
    "    container_arguments=[\n",
    "        \"--bucket\", os.environ[\"BUCKET\"],\n",
    "        \"--file\", \"document.docx\"\n",
    "    ],\n",
    "    container_entrypoint=[\"python3\", \"/opt/ml/processing/code/main.py\"]\n",
    ")"
   ]
  },
  {
   "cell_type": "code",
   "execution_count": 8,
   "id": "d7dc8d82",
   "metadata": {},
   "outputs": [],
   "source": [
    "def create_update_job_data_steps(job_type: str):\n",
    "    section_list = [\"completed\", \"failed\"]\n",
    "    step_repo = {}\n",
    "    for item in section_list:\n",
    "        exec_status = item.capitalize()\n",
    "        name = f'update-dynamodb-{job_type}-{exec_status}'\n",
    "        step_repo[item] = steps.compute.LambdaStep(\n",
    "                name,\n",
    "                parameters={  \n",
    "                    \"FunctionName\": 'quack-tsln-update-jobstatus-step',\n",
    "                    'Payload':{\n",
    "                        \"inputs\": execution_input,\n",
    "                        \"execStatus\": f\"Task{exec_status}\"\n",
    "                    }\n",
    "                }\n",
    "             )\n",
    "    return step_repo"
   ]
  },
  {
   "cell_type": "markdown",
   "id": "24cef330",
   "metadata": {},
   "source": [
    "# Build the Main Workflow"
   ]
  },
  {
   "cell_type": "code",
   "execution_count": 9,
   "id": "c7f82640",
   "metadata": {},
   "outputs": [],
   "source": [
    "update_job_data_repo = create_update_job_data_steps(\"job1\")\n",
    "catch_state_processing = stepfunctions.steps.states.Catch(\n",
    "    error_equals=[\"States.ALL\"],\n",
    "    next_step=update_job_data_repo[\"failed\"],\n",
    ")\n",
    "\n",
    "processing_step.add_catch(catch_state_processing)"
   ]
  },
  {
   "cell_type": "code",
   "execution_count": 10,
   "id": "9fe77ea0",
   "metadata": {},
   "outputs": [],
   "source": [
    "workflow_graph = steps.Chain([processing_step, update_job_data_repo[\"completed\"]])\n",
    "workflow = Workflow(\n",
    "    name=\"quack-tsln_ProcessingJob\",\n",
    "    definition=workflow_graph,\n",
    "    role=WORKFLOW_EXECUTION_ROLE,\n",
    "    execution_input=execution_input\n",
    ")"
   ]
  },
  {
   "cell_type": "code",
   "execution_count": 11,
   "id": "5b0518c9",
   "metadata": {},
   "outputs": [
    {
     "data": {
      "text/html": [
       "\n",
       "<link rel=\"stylesheet\" type=\"text/css\" href=\"https://do0of8uwbahzz.cloudfront.net/graph.css\">\n",
       "<div id=\"graph-911\" class=\"workflowgraph\">\n",
       "    \n",
       "    <svg></svg>\n",
       "    \n",
       "</div>\n",
       "\n",
       "<script type=\"text/javascript\">\n",
       "\n",
       "require.config({\n",
       "    paths: {\n",
       "        sfn: \"https://do0of8uwbahzz.cloudfront.net/sfn\",\n",
       "    }\n",
       "});\n",
       "\n",
       "require(['sfn'], function(sfn) {\n",
       "    var element = document.getElementById('graph-911')\n",
       "\n",
       "    var options = {\n",
       "        width: parseFloat(getComputedStyle(element, null).width.replace(\"px\", \"\")),\n",
       "        height: 600,\n",
       "        layout: 'LR',\n",
       "        resizeHeight: true\n",
       "    };\n",
       "\n",
       "    var definition = {\"StartAt\": \"SageMakerTranslationJob\", \"States\": {\"SageMakerTranslationJob\": {\"Resource\": \"arn:aws:states:::sagemaker:createProcessingJob.sync\", \"Parameters\": {\"ProcessingJobName.$\": \"$$.Execution.Input['ProcessingJobName']\", \"ProcessingInputs\": [{\"InputName\": \"input\", \"AppManaged\": false, \"S3Input\": {\"S3Uri.$\": \"$$.Execution.Input['SOURCE_TO_TRANSLATE']\", \"LocalPath\": \"/opt/ml/processing/input\", \"S3DataType\": \"S3Prefix\", \"S3InputMode\": \"File\", \"S3DataDistributionType\": \"FullyReplicated\", \"S3CompressionType\": \"None\"}}, {\"InputName\": \"model\", \"AppManaged\": false, \"S3Input\": {\"S3Uri.$\": \"$$.Execution.Input['SOURCE_MODEL_ARTIFACT']\", \"LocalPath\": \"/opt/ml/processing/input/model\", \"S3DataType\": \"S3Prefix\", \"S3InputMode\": \"File\", \"S3DataDistributionType\": \"FullyReplicated\", \"S3CompressionType\": \"None\"}}, {\"InputName\": \"code\", \"AppManaged\": false, \"S3Input\": {\"S3Uri.$\": \"$$.Execution.Input['input_code']\", \"LocalPath\": \"/opt/ml/processing/code\", \"S3DataType\": \"S3Prefix\", \"S3InputMode\": \"File\", \"S3DataDistributionType\": \"FullyReplicated\", \"S3CompressionType\": \"None\"}}], \"ProcessingOutputConfig\": {\"Outputs\": [{\"OutputName\": \"output\", \"AppManaged\": false, \"S3Output\": {\"S3Uri.$\": \"$$.Execution.Input['DESTINATION_OUTPUT']\", \"LocalPath\": \"/opt/ml/processing/output\", \"S3UploadMode\": \"EndOfJob\"}}]}, \"AppSpecification\": {\"ImageUri\": \"141502667606.dkr.ecr.eu-west-1.amazonaws.com/sagemaker-scikit-learn:0.20.0-cpu-py3\", \"ContainerArguments\": [\"--bucket\", \"quack-translation-buddy\", \"--file\", \"document.docx\"], \"ContainerEntrypoint\": [\"python3\", \"/opt/ml/processing/code/main.py\"]}, \"RoleArn\": \"arn:aws:iam::202100828967:role/DOC_TRANSLATION_SAGEMAKER_ROLE\", \"ProcessingResources\": {\"ClusterConfig\": {\"InstanceCount\": 1, \"InstanceType\": \"ml.t3.medium\", \"VolumeSizeInGB\": 30}}}, \"Type\": \"Task\", \"Next\": \"update-dynamodb-job1-Completed\", \"Catch\": [{\"ErrorEquals\": [\"States.ALL\"], \"Next\": \"update-dynamodb-job1-Failed\"}]}, \"update-dynamodb-job1-Completed\": {\"Parameters\": {\"FunctionName\": \"quack-tsln-update-jobstatus-step\", \"Payload\": {\"inputs.$\": \"$$.Execution.Input\", \"execStatus\": \"TaskCompleted\"}}, \"Resource\": \"arn:aws:states:::lambda:invoke\", \"Type\": \"Task\", \"End\": true}, \"update-dynamodb-job1-Failed\": {\"Parameters\": {\"FunctionName\": \"quack-tsln-update-jobstatus-step\", \"Payload\": {\"inputs.$\": \"$$.Execution.Input\", \"execStatus\": \"TaskFailed\"}}, \"Resource\": \"arn:aws:states:::lambda:invoke\", \"Type\": \"Task\", \"End\": true}}};\n",
       "    var elementId = '#graph-911';\n",
       "\n",
       "    var graph = new sfn.StateMachineGraph(definition, elementId, options);\n",
       "    graph.render();\n",
       "});\n",
       "\n",
       "</script>\n"
      ],
      "text/plain": [
       "<IPython.core.display.HTML object>"
      ]
     },
     "execution_count": 11,
     "metadata": {},
     "output_type": "execute_result"
    }
   ],
   "source": [
    "workflow.render_graph()\n",
    "# workflow_arn = workflow.create()"
   ]
  },
  {
   "cell_type": "code",
   "execution_count": 21,
   "id": "4aad3102-9cc8-434c-a251-623a255d2a39",
   "metadata": {},
   "outputs": [],
   "source": [
    "# workflow_arn"
   ]
  },
  {
   "cell_type": "code",
   "execution_count": 12,
   "id": "6cf15282",
   "metadata": {},
   "outputs": [],
   "source": [
    "def workflow_to_json(workflow):\n",
    "    filename = workflow.name\n",
    "    with open(f\"{filename}.json\", \"w\") as f:\n",
    "        data = workflow.definition.to_json(pretty=True)\n",
    "        f.write(data)"
   ]
  },
  {
   "cell_type": "code",
   "execution_count": 13,
   "id": "5e7b989f",
   "metadata": {},
   "outputs": [],
   "source": [
    "workflow_to_json(workflow)"
   ]
  },
  {
   "cell_type": "markdown",
   "id": "d30eea6e-28dc-49f9-b316-d1c00d8bddae",
   "metadata": {},
   "source": [
    "# Update Existing Stepfunctoin"
   ]
  },
  {
   "cell_type": "code",
   "execution_count": 16,
   "id": "46e9d38a-b2e1-4466-ab55-b2f73143fedb",
   "metadata": {},
   "outputs": [
    {
     "data": {
      "text/plain": [
       "{'updateDate': datetime.datetime(2022, 12, 9, 19, 44, 13, 58000, tzinfo=tzlocal()),\n",
       " 'ResponseMetadata': {'RequestId': '7e6d3be4-89b5-4cb6-ad25-68210f8d6a78',\n",
       "  'HTTPStatusCode': 200,\n",
       "  'HTTPHeaders': {'x-amzn-requestid': '7e6d3be4-89b5-4cb6-ad25-68210f8d6a78',\n",
       "   'date': 'Fri, 09 Dec 2022 18:44:13 GMT',\n",
       "   'content-type': 'application/x-amz-json-1.0',\n",
       "   'content-length': '31'},\n",
       "  'RetryAttempts': 0}}"
      ]
     },
     "execution_count": 16,
     "metadata": {},
     "output_type": "execute_result"
    }
   ],
   "source": [
    "SFN_CLIENT.update_state_machine(**{\n",
    "    'stateMachineArn': os.environ[\"SFN_WORKFLOW_ARN\"],\n",
    "    'definition': workflow.definition.to_json()\n",
    "})"
   ]
  },
  {
   "cell_type": "markdown",
   "id": "bac74444",
   "metadata": {},
   "source": [
    "# Delete a Step Function Pipeline"
   ]
  },
  {
   "cell_type": "code",
   "execution_count": 19,
   "id": "af2d4a85",
   "metadata": {},
   "outputs": [],
   "source": [
    "def delete_redundant_functions(arn_list: list) -> None:\n",
    "    confirmed = input(\"Please confirm with y/n: \")\n",
    "    if confirmed == 'y':\n",
    "        for arn in arn_list:\n",
    "            resp = SFN_CLIENT.delete_state_machine(stateMachineArn=arn)\n",
    "            print(f\"Deleted {resp}\")\n",
    "    print(\"Delition cancled.\")\n",
    "        \n",
    "def delete_function_by_arn(arn: str) -> None:\n",
    "    confirmed = input(\"Please confirm with y/n: \")\n",
    "    if confirmed == 'y':\n",
    "        resp = SFN_CLIENT.delete_state_machine(stateMachineArn=arn)\n",
    "        print(f\"Deleted {resp}\")\n",
    "    print(\"Delition cancled.\")"
   ]
  },
  {
   "cell_type": "code",
   "execution_count": 20,
   "id": "1c1d1374",
   "metadata": {},
   "outputs": [],
   "source": [
    "# delete_function_by_arn(workflow_arn)"
   ]
  },
  {
   "cell_type": "code",
   "execution_count": 17,
   "id": "7f5610e6",
   "metadata": {},
   "outputs": [],
   "source": [
    "arn_list = [f\"arn:aws:states:eu-west-1:240911078895:stateMachine:germandossier_ProcessingJob2_v{i}\" for i in range(1,6)]"
   ]
  },
  {
   "cell_type": "code",
   "execution_count": 20,
   "id": "bef4a3f7",
   "metadata": {},
   "outputs": [],
   "source": [
    "## Example of Adding Parallel Step\n",
    "# parallel_state = steps.Parallel(\"TranslateAllSections\")\n",
    "# parallel_state.add_branch(processing_step_repo[\"heading\"])\n",
    "# parallel_state.add_branch(processing_step_repo[\"footnote\"])\n",
    "# parallel_state.add_branch(processing_step_repo[\"phrase\"])\n",
    "# parallel_state.add_catch(catch_state)\n",
    "# parallel_state.add_retry(retry_step)\n",
    "# processing_step_repo.add_catch(catch_state)\n",
    "# temp_step = processing_step_repo[\"heading\"]\n",
    "# temp_step.add_catch(catch_state)\n",
    "# workflow_graph = steps.Chain([temp_step, update_job_data_repo[\"completed\"]])"
   ]
  }
 ],
 "metadata": {
  "kernelspec": {
   "display_name": "Python 3 (ipykernel)",
   "language": "python",
   "name": "python3"
  },
  "language_info": {
   "codemirror_mode": {
    "name": "ipython",
    "version": 3
   },
   "file_extension": ".py",
   "mimetype": "text/x-python",
   "name": "python",
   "nbconvert_exporter": "python",
   "pygments_lexer": "ipython3",
   "version": "3.9.14"
  }
 },
 "nbformat": 4,
 "nbformat_minor": 5
}
