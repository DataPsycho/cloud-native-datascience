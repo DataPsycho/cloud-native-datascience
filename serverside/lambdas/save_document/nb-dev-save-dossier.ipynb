{
 "cells": [
  {
   "cell_type": "code",
   "execution_count": null,
   "id": "6f8819ff",
   "metadata": {},
   "outputs": [],
   "source": [
    "import os\n",
    "import json\n",
    "import typing as t\n",
    "import boto3\n",
    "import base64\n",
    "\n",
    "from domainmodel import Project\n",
    "from microkit.orm import DynamoOrm, get_project_info_by_pid\n",
    "from microkit.utils import DecimalEncoder, create_local_path, convert_to_internal_convention, load_env_vars\n",
    "from microkit.exceptions import ParameterMissingError, DataBaseOperationError, ContentNotFoundError\n",
    "from microkit.exceptions import (\n",
    "    create_response_from_exception, \n",
    "    create_response_from_param_exception,\n",
    "    query_parameter_ok\n",
    ")\n",
    "from microkit.logger import get_logger\n",
    "from microkit.exceptions import create_response_from_exception, create_response_from_param_exception, query_parameter_ok"
   ]
  },
  {
   "cell_type": "code",
   "execution_count": null,
   "id": "44540c56-824f-40a7-bf76-d7de3f8ff214",
   "metadata": {},
   "outputs": [],
   "source": [
    "LOGGER = get_logger(str(__name__))\n",
    "ENV_VARS = load_env_vars()"
   ]
  },
  {
   "cell_type": "code",
   "execution_count": null,
   "id": "aac8b22f",
   "metadata": {},
   "outputs": [],
   "source": [
    "# BUCKET_NAME = os.environ['BUCKET']\n",
    "SESSION = boto3.session.Session()\n",
    "S3_CLEINT = SESSION.client('s3')\n",
    "DYNAMODB_RESOURCE = SESSION.resource('dynamodb')\n",
    "DYNAMO_TABLE = DYNAMODB_RESOURCE.Table(ENV_VARS.db)\n",
    "S3_RESOURCE = SESSION.resource(\"s3\")"
   ]
  },
  {
   "cell_type": "code",
   "execution_count": null,
   "id": "e34abf07",
   "metadata": {},
   "outputs": [],
   "source": [
    "BUCKET_KEY_PREFIX = \"docstore/documents\"\n",
    "LOCAL_DOC_PATH = create_local_path(\"document.docx\")"
   ]
  },
  {
   "cell_type": "markdown",
   "id": "fba1cfc5",
   "metadata": {},
   "source": [
    "# Steps:\n",
    "1. Query The Database using the given SK\n",
    "2. Create a Project object to update the the database\n",
    "3. Save the new dossier in /tmp using the new dossier name for the previous step\n",
    "4. upload the dossier into the location with given filename\n",
    "5. If upload successful update the database with the new project init"
   ]
  },
  {
   "cell_type": "code",
   "execution_count": null,
   "id": "5a5cc197",
   "metadata": {},
   "outputs": [],
   "source": [
    "def create_project_from_query(sk: str) -> Project:\n",
    "    try:\n",
    "        project_info = get_project_info_by_pid(DYNAMO_TABLE, sk)    \n",
    "        proj_init = Project.from_dict(project_info[\"Item\"])\n",
    "        return proj_init\n",
    "    except Exception as e:\n",
    "        LOGGER.info(e)\n",
    "        raise DataBaseOperationError(f\"Can not query the database to get information for the PID: {sk}\")"
   ]
  },
  {
   "cell_type": "code",
   "execution_count": null,
   "id": "092de88c",
   "metadata": {},
   "outputs": [],
   "source": [
    "def b64_str_to_docx(b64_str: str) -> None:\n",
    "    \"\"\"Convert base64 request data into binary data and save it to local directory\"\"\"\n",
    "    bytes_stream = base64.b64decode(b64_str.encode(\"utf-8\"))\n",
    "    path = LOCAL_DOC_PATH\n",
    "    with open(path, 'wb') as f:\n",
    "        f.write(bytes_stream)"
   ]
  },
  {
   "cell_type": "code",
   "execution_count": null,
   "id": "fc1fbd03",
   "metadata": {},
   "outputs": [],
   "source": [
    "def remove_extension(text: str):\n",
    "    return text.replace(\".docx\", \"\")\n",
    "\n",
    "def add_extension(text: str):\n",
    "    return text + \".docx\""
   ]
  },
  {
   "cell_type": "code",
   "execution_count": null,
   "id": "b6ccfb97",
   "metadata": {},
   "outputs": [],
   "source": [
    "def upload_to_s3(p: Project) -> None:\n",
    "    \"\"\"Upload new dictionary to the given bucket and bucket key\"\"\"\n",
    "    try:\n",
    "        S3_CLEINT.upload_file(\n",
    "            Filename=LOCAL_DOC_PATH,\n",
    "            Bucket=p.bucket, \n",
    "            Key=p.bucket_key, \n",
    "            ExtraArgs={\"ServerSideEncryption\":\"aws:kms\"}\n",
    "        )\n",
    "        os.remove(LOCAL_DOC_PATH)\n",
    "        print(f\"File uploaded to {p.bucket}/{p.bucket_key}\")\n",
    "    except Exception as e:\n",
    "        LOGGER.info(e)\n",
    "        raise ContentNotFoundError(e)"
   ]
  },
  {
   "cell_type": "code",
   "execution_count": null,
   "id": "513c085e",
   "metadata": {},
   "outputs": [],
   "source": [
    "def update_project_data(proj: Project, sk: str, filename: str, updated_by: str) -> Project:\n",
    "    \"\"\"Update the project data using new dossier data\"\"\"\n",
    "    filename = remove_extension(filename)\n",
    "    filename = convert_to_internal_convention(filename.replace(\"_\", \"-\")).replace(\"-\", \"_\")\n",
    "    filename = add_extension(filename)\n",
    "    filepath = proj.SK.replace(':', '-')\n",
    "    bucket_key = f\"{os.path.join(BUCKET_KEY_PREFIX, filepath, 'document.docx')}\"\n",
    "    proj.set_doc(filename)\n",
    "    proj.set_bucket(ENV_VARS.bucket)\n",
    "    proj.set_bucket_key(bucket_key)\n",
    "    proj.set_updated_by(updated_by)\n",
    "    proj.set_updated_at()\n",
    "    return proj"
   ]
  },
  {
   "cell_type": "code",
   "execution_count": null,
   "id": "37c952e1",
   "metadata": {},
   "outputs": [],
   "source": [
    "def update_dynamo_data(proj: Project) -> t.Dict:\n",
    "    try:\n",
    "        orm_handler = DynamoOrm(proj, DYNAMO_TABLE)\n",
    "        resp = orm_handler.update_all()\n",
    "        return resp\n",
    "    except Exception as e:\n",
    "        LOGGER.info(e)\n",
    "        raise DataBaseOperationError"
   ]
  },
  {
   "cell_type": "code",
   "execution_count": null,
   "id": "eb4c55c5",
   "metadata": {},
   "outputs": [],
   "source": [
    "def process_request(request: t.Dict) -> t.Dict:\n",
    "    resp = create_project_from_query(request[\"sk\"])\n",
    "    data = request[\"data\"]\n",
    "    b64_str_to_docx(data)\n",
    "    new_project_data = update_project_data(\n",
    "        proj = resp, \n",
    "        sk=request[\"sk\"], \n",
    "        filename=request[\"doc\"], \n",
    "        updated_by=request[\"updated_by\"]\n",
    "    )\n",
    "    upload_to_s3(new_project_data)\n",
    "    orm_handler = DynamoOrm(new_project_data, DYNAMO_TABLE)\n",
    "    resp = orm_handler.update_all()\n",
    "    return resp\n"
   ]
  },
  {
   "cell_type": "code",
   "execution_count": null,
   "id": "02dd6042",
   "metadata": {},
   "outputs": [],
   "source": [
    "def handler(event, context):\n",
    "    \"\"\"Handler function for the API gateway\"\"\"\n",
    "    param_list = [\"sk\", \"doc\", \"data\", \"updated_by\"]\n",
    "    try:\n",
    "        request = json.loads(event[\"body\"])\n",
    "        query_parameter_ok(param_list, request)\n",
    "        resp = process_request(request=request)\n",
    "        return {\"statusCode\": resp[\"status\"], \"body\": json.dumps(resp, cls=DecimalEncoder)}\n",
    "    except ParameterMissingError as e:\n",
    "        LOGGER.info(e)\n",
    "        return create_response_from_param_exception(exception=e, data={})\n",
    "    except Exception as e:\n",
    "        LOGGER.info(e)\n",
    "        return create_response_from_exception(exception=e, data={})"
   ]
  }
 ],
 "metadata": {
  "kernelspec": {
   "display_name": "Python 3 (ipykernel)",
   "language": "python",
   "name": "python3"
  },
  "language_info": {
   "codemirror_mode": {
    "name": "ipython",
    "version": 3
   },
   "file_extension": ".py",
   "mimetype": "text/x-python",
   "name": "python",
   "nbconvert_exporter": "python",
   "pygments_lexer": "ipython3",
   "version": "3.9.14"
  }
 },
 "nbformat": 4,
 "nbformat_minor": 5
}
