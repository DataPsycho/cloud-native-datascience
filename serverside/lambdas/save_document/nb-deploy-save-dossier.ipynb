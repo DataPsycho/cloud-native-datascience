{
 "cells": [
  {
   "cell_type": "code",
   "execution_count": null,
   "id": "a199d449",
   "metadata": {},
   "outputs": [],
   "source": [
    "!./build.sh"
   ]
  },
  {
   "cell_type": "code",
   "execution_count": null,
   "id": "b827c985",
   "metadata": {},
   "outputs": [],
   "source": [
    "!./format.sh\n",
    "!echo \"=== Testing Removing Unused Import and Varialbe ===\"\n",
    "!autoflake --in-place --remove-unused-variables --remove-all-unused-imports save_docx.py"
   ]
  },
  {
   "cell_type": "code",
   "execution_count": null,
   "id": "48532fb8",
   "metadata": {},
   "outputs": [],
   "source": [
    "import os\n",
    "\n",
    "from deploykit import (\n",
    "    build_package,\n",
    "    upload_package, \n",
    "    deploy_pacakge, \n",
    "    update_package_code,\n",
    "    update_env_vars\n",
    ")"
   ]
  },
  {
   "cell_type": "markdown",
   "id": "f34022ac",
   "metadata": {},
   "source": [
    "# Test Lambda"
   ]
  },
  {
   "cell_type": "code",
   "execution_count": null,
   "id": "0be08197",
   "metadata": {},
   "outputs": [],
   "source": [
    "from docx import Document as read_document\n",
    "from docx.document import Document\n",
    "from io import BytesIO\n",
    "import base64\n",
    "import json"
   ]
  },
  {
   "cell_type": "code",
   "execution_count": null,
   "id": "8d5d7091",
   "metadata": {},
   "outputs": [],
   "source": [
    "from save_docx import handler"
   ]
  },
  {
   "cell_type": "code",
   "execution_count": null,
   "id": "73972386",
   "metadata": {},
   "outputs": [],
   "source": [
    "def python_docx_to_byte(doc: Document) -> bytes:\n",
    "    byte_stream = BytesIO()\n",
    "    doc.save(byte_stream)\n",
    "    byte_stream.seek(0)\n",
    "    return byte_stream.read()"
   ]
  },
  {
   "cell_type": "code",
   "execution_count": null,
   "id": "e12d0d85",
   "metadata": {},
   "outputs": [],
   "source": [
    "def bytes_to_base64_str(byte_data: bytes) -> str:\n",
    "    b64_encoded_byte = base64.b64encode(byte_data)\n",
    "    b64_encoded_str = b64_encoded_byte.decode(\"utf-8\")\n",
    "    return b64_encoded_str"
   ]
  },
  {
   "cell_type": "code",
   "execution_count": null,
   "id": "bc883ba7",
   "metadata": {},
   "outputs": [],
   "source": [
    "test_event_dict = {\n",
    "    \"sk\": os.environ[\"TEMP_PROJECT_NAME\"],\n",
    "    \"doc\": \"demo.docx\",\n",
    "    \"data\": bytes_to_base64_str(\n",
    "        python_docx_to_byte(\n",
    "            read_document(\"../../../lfs/documents/english-demo.docx\")\n",
    "        )\n",
    "    ),\n",
    "    \"updated_by\": \"pluto\"\n",
    "}\n",
    "\n",
    "test_event = {\"body\": json.dumps(test_event_dict)}"
   ]
  },
  {
   "cell_type": "code",
   "execution_count": null,
   "id": "3fae8855",
   "metadata": {},
   "outputs": [],
   "source": [
    "response = handler(event=test_event, context=_)"
   ]
  },
  {
   "cell_type": "code",
   "execution_count": null,
   "id": "d0295347",
   "metadata": {},
   "outputs": [],
   "source": [
    "assert response['statusCode'] == 200 "
   ]
  },
  {
   "cell_type": "markdown",
   "id": "8704eee0",
   "metadata": {},
   "source": [
    "# Deploy Lambda Handler"
   ]
  },
  {
   "cell_type": "code",
   "execution_count": null,
   "id": "a407a9f1",
   "metadata": {},
   "outputs": [],
   "source": [
    "# !pip install --upgrade -r requirements.txt --target ./packages"
   ]
  },
  {
   "cell_type": "code",
   "execution_count": null,
   "id": "04340487",
   "metadata": {},
   "outputs": [],
   "source": [
    "BUCKET = os.environ['BUCKET']\n",
    "BUCKET_KEY = \"lambdas/save-docx.zip\"\n",
    "FUNCTION_NAME = \"quack-tsln-save-document\"\n",
    "ENV_DYNAMODB = os.environ[\"DB_NAME\"]\n",
    "\n",
    "ENV_VARIABLES = {\n",
    "    'Variables': {\n",
    "        'BUCKET': BUCKET, \n",
    "        'DB_NAME': ENV_DYNAMODB, \n",
    "        \"LAMBDA_RUNTIME_ENV\": \"cloud\"\n",
    "    }\n",
    "}\n",
    "CODE_INFO = {\"S3Bucket\": BUCKET, \"S3Key\": BUCKET_KEY}\n",
    "PACKAGE = BUCKET_KEY.replace(\"lambdas/\", \"\")"
   ]
  },
  {
   "cell_type": "code",
   "execution_count": null,
   "id": "2e70a8ea",
   "metadata": {},
   "outputs": [],
   "source": [
    "build_package(PACKAGE)"
   ]
  },
  {
   "cell_type": "code",
   "execution_count": null,
   "id": "d47e5ecf",
   "metadata": {},
   "outputs": [],
   "source": [
    "upload_package(PACKAGE, BUCKET, BUCKET_KEY)"
   ]
  },
  {
   "cell_type": "code",
   "execution_count": null,
   "id": "d03db943",
   "metadata": {},
   "outputs": [],
   "source": [
    "DESC = \"Save Dossier From Client\"\n",
    "MAIN_PYFILE = \"save_docx\""
   ]
  },
  {
   "cell_type": "code",
   "execution_count": null,
   "id": "35806e48",
   "metadata": {},
   "outputs": [],
   "source": [
    "try:\n",
    "    deploy_pacakge(\n",
    "        function_name=FUNCTION_NAME, \n",
    "        handler=MAIN_PYFILE,\n",
    "        timeout=180, \n",
    "        desc=DESC, \n",
    "        env_vars=ENV_VARIABLES,\n",
    "        code_info=CODE_INFO,\n",
    "        memory_size=256\n",
    "    )\n",
    "except Exception as e:\n",
    "    print(e)\n",
    "    update_package_code(function_name=FUNCTION_NAME, bucket=BUCKET, key=BUCKET_KEY)"
   ]
  },
  {
   "cell_type": "code",
   "execution_count": null,
   "id": "b26d0359",
   "metadata": {},
   "outputs": [],
   "source": [
    "update_env_vars(function_name=FUNCTION_NAME, envvars=ENV_VARIABLES)"
   ]
  },
  {
   "cell_type": "markdown",
   "id": "a5d605dc",
   "metadata": {},
   "source": [
    "# Dummy Test for FrontEnd"
   ]
  },
  {
   "cell_type": "code",
   "execution_count": null,
   "id": "45c14b93",
   "metadata": {},
   "outputs": [],
   "source": [
    "import boto3\n",
    "from save_dossier import create_project_from_query\n",
    "from save_dossier import Project\n",
    "import logging"
   ]
  },
  {
   "cell_type": "code",
   "execution_count": null,
   "id": "c6c2be82",
   "metadata": {},
   "outputs": [],
   "source": [
    "# Boto3 setting\n",
    "SESSION = boto3.session.Session()\n",
    "S3_CLEINT = SESSION.client('s3')\n",
    "LAMBDA_CLIENT = SESSION.client('lambda')"
   ]
  },
  {
   "cell_type": "code",
   "execution_count": null,
   "id": "72ef0052",
   "metadata": {},
   "outputs": [],
   "source": [
    "resp = create_project_from_query(sk=\"...\")\n",
    "project = Project.from_dict(resp[\"data\"])"
   ]
  },
  {
   "cell_type": "code",
   "execution_count": null,
   "id": "cbfccd9f",
   "metadata": {},
   "outputs": [],
   "source": [
    "def download_document(bucket: str, bucket_key: str, local_path: str):\n",
    "    \"\"\"Download dictionary from a given bucket and bucket key\"\"\"\n",
    "    S3_CLEINT.download_file(Bucket=bucket, Key=bucket_key, Filename=local_path)\n",
    "    logging.info(f\"File downloaded successfully from bucket {bucket} with key {bucket_key}\")"
   ]
  },
  {
   "cell_type": "code",
   "execution_count": null,
   "id": "ddc22afd",
   "metadata": {},
   "outputs": [],
   "source": [
    "download_document(project.bucket, project.bucket_key, \"temp/dossier.docx\")"
   ]
  }
 ],
 "metadata": {
  "kernelspec": {
   "display_name": "Python 3 (ipykernel)",
   "language": "python",
   "name": "python3"
  },
  "language_info": {
   "codemirror_mode": {
    "name": "ipython",
    "version": 3
   },
   "file_extension": ".py",
   "mimetype": "text/x-python",
   "name": "python",
   "nbconvert_exporter": "python",
   "pygments_lexer": "ipython3",
   "version": "3.9.14"
  }
 },
 "nbformat": 4,
 "nbformat_minor": 5
}
