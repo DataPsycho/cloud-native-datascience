{
 "cells": [
  {
   "cell_type": "code",
   "execution_count": 1,
   "id": "592323d9",
   "metadata": {},
   "outputs": [],
   "source": [
    "!pytest"
   ]
  }
 ],
 "metadata": {
  "kernelspec": {
   "display_name": "conda_dosjobs",
   "language": "python",
   "name": "conda_dosjobs"
  },
  "language_info": {
   "codemirror_mode": {
    "name": "ipython",
    "version": 3
   },
   "file_extension": ".py",
   "mimetype": "text/x-python",
   "name": "python",
   "nbconvert_exporter": "python",
   "pygments_lexer": "ipython3",
   "version": "3.6.13"
  }
 },
 "nbformat": 4,
 "nbformat_minor": 5
}
