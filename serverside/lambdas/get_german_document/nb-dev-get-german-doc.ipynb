{
 "cells": [
  {
   "cell_type": "code",
   "execution_count": null,
   "id": "ea100bab-6501-4b51-a482-9e31746d9d5d",
   "metadata": {},
   "outputs": [],
   "source": [
    "import os\n",
    "import json\n",
    "import typing as t\n",
    "import boto3"
   ]
  },
  {
   "cell_type": "code",
   "execution_count": null,
   "id": "5b334bcf",
   "metadata": {},
   "outputs": [],
   "source": [
    "from microkit.orm import DynamoOrm\n",
    "from microkit.utils import return_by_status_code, DecimalEncoder\n",
    "from microkit.exceptions import ContentNotFoundError, query_parameter_ok\n",
    "from microkit.exceptions import (\n",
    "    ParameterMissingError, \n",
    "    create_response_from_exception, \n",
    "    create_response_from_not_found_exception, \n",
    "    create_response_from_param_exception,\n",
    "    DataBaseOperationError\n",
    ")\n",
    "from domainmodel import Job\n",
    "from microkit.utils import bytes_to_base64_str, load_env_vars\n",
    "from microkit.logger import get_logger"
   ]
  },
  {
   "cell_type": "code",
   "execution_count": null,
   "id": "bc67e13c-21db-415f-a16c-eb1dc850f763",
   "metadata": {},
   "outputs": [],
   "source": [
    "ENV_VARS = load_env_vars()\n",
    "LOGGER = get_logger(str(__name__))\n",
    "JOBTYPE = \"job1\""
   ]
  },
  {
   "cell_type": "code",
   "execution_count": null,
   "id": "a6f1c731-0e07-4e2a-b82c-7fe38f14bb2f",
   "metadata": {},
   "outputs": [],
   "source": [
    "SESSION = boto3.session.Session()\n",
    "DYNAMODB_RESOURCE = SESSION.resource('dynamodb')\n",
    "DYNAMO_TABLE = DYNAMODB_RESOURCE.Table(ENV_VARS.db)\n",
    "\n",
    "BUCKET_NAME = os.environ['BUCKET']\n",
    "S3_CLEINT = SESSION.client('s3')\n",
    "S3_RESOURCE = SESSION.resource(\"s3\")"
   ]
  },
  {
   "cell_type": "markdown",
   "id": "68601b52",
   "metadata": {},
   "source": [
    "# Steps\n",
    "1. If As for Latest \n",
    "    - Query job1 Data using on Given Project ID\n",
    "    - If there is no german file in the location through filenot found\n",
    "    - If there is review file read it as binary\n",
    "    - Convert the file into base 64\n",
    "    - return to the User\n",
    "2. If ask for previous versions\n",
    "    - Get the Specific version by Querying the Data\n",
    "    - Follow the same review check steps"
   ]
  },
  {
   "cell_type": "code",
   "execution_count": null,
   "id": "1ca61bec",
   "metadata": {},
   "outputs": [],
   "source": [
    "def get_item_from_db(job: Job) -> Job:\n",
    "    \"\"\"Get Item from a database by given a Job dataclass template\"\"\"\n",
    "    handler = DynamoOrm(job, DYNAMO_TABLE)\n",
    "    resp = handler.get_item()\n",
    "    if resp[\"status\"] == 200:\n",
    "        new_data = Job.from_dict(resp[\"data\"])\n",
    "        return new_data\n",
    "    raise ContentNotFoundError(f\"Unable to find job metadata from the database for project: {job.PK}, version: {job.SK}\")"
   ]
  },
  {
   "cell_type": "code",
   "execution_count": null,
   "id": "0fd08dc9",
   "metadata": {},
   "outputs": [],
   "source": [
    "def get_version0(pid: str) -> Job:\n",
    "    \"\"\"Get the version 0 pointer of the job by given a projectid\"\"\"\n",
    "    pk = f\"proj#{pid}\"\n",
    "    sk = f\"{JOBTYPE}#v0\"\n",
    "    template = Job(pk, sk)\n",
    "    return get_item_from_db(template)"
   ]
  },
  {
   "cell_type": "code",
   "execution_count": null,
   "id": "1f92fc56",
   "metadata": {},
   "outputs": [],
   "source": [
    "def get_latest_version(pid: str) -> Job:\n",
    "    \"\"\"Get the lates version of the job info from version poiner\"\"\"\n",
    "    v0_template = get_version0(pid)\n",
    "    if v0_template:\n",
    "        sk = f\"{JOBTYPE}#{v0_template.version_pointer}\"\n",
    "        latest_item = Job(PK=v0_template.PK, SK=sk)\n",
    "        return get_item_from_db(latest_item)\n",
    "    raise DataBaseOperationError(f\"Content not found for PID: {pid}\")"
   ]
  },
  {
   "cell_type": "code",
   "execution_count": null,
   "id": "6f01f148",
   "metadata": {},
   "outputs": [],
   "source": [
    "def get_object_paths(metadata: Job) -> t.Dict:\n",
    "    \"\"\"Get the path of the object from s3 from metadata bucket and key\"\"\"\n",
    "    try:\n",
    "        repo = S3_CLEINT.list_objects_v2(Bucket=metadata.bucket, Prefix=metadata.bucket_key)\n",
    "        if \"Contents\" in repo:\n",
    "            key = repo[\"Contents\"][0][\"Key\"]\n",
    "            return {\"output\": key}\n",
    "        else:\n",
    "            raise ContentNotFoundError(\n",
    "                f\"Missing files in the file storage for project: {metadata.pid}, \"\n",
    "                f\"job type: {metadata.entity_type} and version: {metadata.version}\"\n",
    "            )\n",
    "    except Exception as e:\n",
    "        LOGGER.info(e)\n",
    "        raise ContentNotFoundError(\"Unable to read resource from the file storege, may be key is not vaid.\")"
   ]
  },
  {
   "cell_type": "code",
   "execution_count": null,
   "id": "9f03623c",
   "metadata": {},
   "outputs": [],
   "source": [
    "def read_docx_from_s3(metadata: Job) -> str:\n",
    "    \"\"\"Read docx file as bytes from s3\"\"\"\n",
    "    try:\n",
    "        key_store = get_object_paths(metadata=metadata)\n",
    "        review_key = key_store[\"output\"]\n",
    "        handler = S3_RESOURCE.Object(bucket_name=metadata.bucket, key=review_key)\n",
    "        data = handler.get()['Body'].read()\n",
    "        return bytes_to_base64_str(data)\n",
    "    except Exception as e:\n",
    "        LOGGER.info(e)\n",
    "        raise ContentNotFoundError(\"Unable to read resource from the file storege, may be file does not exist yet.\")"
   ]
  },
  {
   "cell_type": "code",
   "execution_count": null,
   "id": "df9bc90b",
   "metadata": {},
   "outputs": [],
   "source": [
    "def process_request(pid: str, version=None) -> t.Dict:\n",
    "    \"\"\"Then acting main function which handle the whole process from the payload inputs\"\"\"\n",
    "    # TODO: Add functionality to request any last 3 successful version\n",
    "    _ = version\n",
    "    try:\n",
    "        metadata = get_latest_version(pid=pid)\n",
    "        data = read_docx_from_s3(metadata=metadata)\n",
    "        resp = {\"status\": 200, \"data\": {\"content\": data, \"query\": metadata.to_dict()}}\n",
    "        return return_by_status_code(resp)\n",
    "    except ContentNotFoundError as e:\n",
    "        LOGGER.info(e)\n",
    "        raise e\n",
    "    except Exception as e:\n",
    "        LOGGER.info(e)\n",
    "        raise e"
   ]
  },
  {
   "cell_type": "code",
   "execution_count": null,
   "id": "8d3b10f2",
   "metadata": {},
   "outputs": [],
   "source": [
    "def handler(event, context):\n",
    "    \"\"\"Handler function for the API gateway\"\"\"\n",
    "    param_list = [\"pid\", \"version\"]\n",
    "    query_param = event.get(\"queryStringParameters\", {})\n",
    "    try:\n",
    "        query_parameter_ok(expected=param_list, requested=query_param)\n",
    "        resp = process_request(pid=query_param[\"pid\"], version=query_param[\"version\"])\n",
    "        return {\"statusCode\": resp[\"status\"], \"body\": json.dumps(resp, cls=DecimalEncoder)}\n",
    "    except ParameterMissingError as e:\n",
    "        return create_response_from_param_exception(exception=e, data={})\n",
    "    except ContentNotFoundError as e:\n",
    "        return create_response_from_not_found_exception(exception=e, data={})\n",
    "    except Exception as e:\n",
    "        return create_response_from_exception(exception=e, data={})"
   ]
  }
 ],
 "metadata": {
  "kernelspec": {
   "display_name": "Python 3 (ipykernel)",
   "language": "python",
   "name": "python3"
  },
  "language_info": {
   "codemirror_mode": {
    "name": "ipython",
    "version": 3
   },
   "file_extension": ".py",
   "mimetype": "text/x-python",
   "name": "python",
   "nbconvert_exporter": "python",
   "pygments_lexer": "ipython3",
   "version": "3.9.14"
  }
 },
 "nbformat": 4,
 "nbformat_minor": 5
}
