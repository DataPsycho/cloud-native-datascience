{
 "cells": [
  {
   "cell_type": "code",
   "execution_count": null,
   "id": "e0122bf8",
   "metadata": {},
   "outputs": [],
   "source": [
    "!./build.sh"
   ]
  },
  {
   "cell_type": "code",
   "execution_count": null,
   "id": "510ad5f2",
   "metadata": {},
   "outputs": [],
   "source": [
    "!./format.sh\n",
    "!echo \"=== Testing Removing Unused Import and Varialbe ===\"\n",
    "!autoflake --in-place --remove-unused-variables --remove-all-unused-imports health_check.py"
   ]
  },
  {
   "cell_type": "code",
   "execution_count": null,
   "id": "2da0fdfe",
   "metadata": {},
   "outputs": [],
   "source": [
    "import os\n",
    "\n",
    "from deploykit import (\n",
    "    build_package,\n",
    "    upload_package, \n",
    "    deploy_pacakge, \n",
    "    update_package_code,\n",
    "    update_env_vars\n",
    ")"
   ]
  },
  {
   "cell_type": "markdown",
   "id": "e11cdc31",
   "metadata": {},
   "source": [
    "# Test Lambda"
   ]
  },
  {
   "cell_type": "code",
   "execution_count": null,
   "id": "24cd30c1",
   "metadata": {},
   "outputs": [],
   "source": [
    "from health_check import handler"
   ]
  },
  {
   "cell_type": "code",
   "execution_count": null,
   "id": "be2adb02",
   "metadata": {},
   "outputs": [],
   "source": [
    "test_event = {}\n",
    "response = handler(event=test_event, context=_)\n",
    "assert response['statusCode'] == 200 "
   ]
  },
  {
   "cell_type": "markdown",
   "id": "f3d9f3a8",
   "metadata": {},
   "source": [
    "# Deploy Lambda Handler"
   ]
  },
  {
   "cell_type": "code",
   "execution_count": null,
   "id": "1eec1a21",
   "metadata": {},
   "outputs": [],
   "source": [
    "# !pip install --upgrade -r requirements.txt --target ./packages"
   ]
  },
  {
   "cell_type": "code",
   "execution_count": null,
   "id": "41f7bb20",
   "metadata": {},
   "outputs": [],
   "source": [
    "BUCKET = os.environ['BUCKET']\n",
    "BUCKET_KEY = \"lambdas/health-check.zip\"\n",
    "FUNCTION_NAME = \"quack-tsln-health-check\"\n",
    "ENV_DYNAMODB = os.environ[\"TABLE\"]\n",
    "ENV_VARIABLES = {'Variables': {'BUCKET': BUCKET, 'DYNAMODB': ENV_DYNAMODB, \"ENVIRON\": \"prod\"}}\n",
    "CODE_INFO = {\"S3Bucket\": BUCKET, \"S3Key\": BUCKET_KEY}\n",
    "PACKAGE = BUCKET_KEY.replace(\"lambdas/\", \"\")"
   ]
  },
  {
   "cell_type": "code",
   "execution_count": null,
   "id": "70010b5f",
   "metadata": {},
   "outputs": [],
   "source": [
    "build_package(PACKAGE)"
   ]
  },
  {
   "cell_type": "code",
   "execution_count": null,
   "id": "fc9069ed",
   "metadata": {},
   "outputs": [],
   "source": [
    "upload_package(PACKAGE, BUCKET, BUCKET_KEY)"
   ]
  },
  {
   "cell_type": "code",
   "execution_count": null,
   "id": "a4c32ca7",
   "metadata": {},
   "outputs": [],
   "source": [
    "DESC = \"Health check lambda\"\n",
    "MAIN_PYFILE = \"health_check\""
   ]
  },
  {
   "cell_type": "code",
   "execution_count": null,
   "id": "bbce2639",
   "metadata": {},
   "outputs": [],
   "source": [
    "try:\n",
    "    deploy_pacakge(\n",
    "        function_name=FUNCTION_NAME, \n",
    "        handler=MAIN_PYFILE,\n",
    "        timeout=180, \n",
    "        desc=DESC, \n",
    "        env_vars=ENV_VARIABLES, \n",
    "        code_info=CODE_INFO,\n",
    "        memory_size=128\n",
    "    )\n",
    "except Exception as e:\n",
    "    print(e)\n",
    "    update_package_code(function_name=FUNCTION_NAME, bucket=BUCKET, key=BUCKET_KEY)"
   ]
  },
  {
   "cell_type": "code",
   "execution_count": null,
   "id": "f856f9b7",
   "metadata": {},
   "outputs": [],
   "source": [
    "update_env_vars(function_name=FUNCTION_NAME, envvars=ENV_VARIABLES)"
   ]
  }
 ],
 "metadata": {
  "kernelspec": {
   "display_name": "Python 3 (ipykernel)",
   "language": "python",
   "name": "python3"
  },
  "language_info": {
   "codemirror_mode": {
    "name": "ipython",
    "version": 3
   },
   "file_extension": ".py",
   "mimetype": "text/x-python",
   "name": "python",
   "nbconvert_exporter": "python",
   "pygments_lexer": "ipython3",
   "version": "3.9.14"
  }
 },
 "nbformat": 4,
 "nbformat_minor": 5
}
