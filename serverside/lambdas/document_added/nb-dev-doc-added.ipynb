{
 "cells": [
  {
   "cell_type": "code",
   "execution_count": null,
   "id": "1ac28701",
   "metadata": {},
   "outputs": [],
   "source": [
    "import json\n",
    "import typing as t\n",
    "import boto3"
   ]
  },
  {
   "cell_type": "code",
   "execution_count": null,
   "id": "218cdd76-8719-4ce9-9bdd-39ef48de6937",
   "metadata": {},
   "outputs": [],
   "source": [
    "from domainmodel import Project\n",
    "from microkit.orm import DynamoOrm\n",
    "from microkit.utils import DecimalEncoder, load_env_vars\n",
    "from microkit.exceptions import (\n",
    "    ParameterMissingError,\n",
    "    DataBaseOperationError,\n",
    "    create_response_from_exception, \n",
    "    create_response_from_param_exception, \n",
    "    query_parameter_ok,\n",
    "    ContentNotFoundError,\n",
    "    create_response_from_not_found_exception\n",
    ")\n",
    "from microkit.logger import get_logger"
   ]
  },
  {
   "cell_type": "code",
   "execution_count": null,
   "id": "708ed536-d5ad-4f03-a60c-cb281ca528a9",
   "metadata": {},
   "outputs": [],
   "source": [
    "LOGGER = get_logger(str(__name__))\n",
    "ENV_VARS = load_env_vars()"
   ]
  },
  {
   "cell_type": "code",
   "execution_count": null,
   "id": "a9dfd0f2",
   "metadata": {},
   "outputs": [],
   "source": [
    "SESSION = boto3.session.Session()\n",
    "DYNAMODB_RESOURCE = SESSION.resource('dynamodb')\n",
    "DYNAMO_TABLE = DYNAMODB_RESOURCE.Table(ENV_VARS.db)\n",
    "S3_RESOURCE = SESSION.resource(\"s3\")"
   ]
  },
  {
   "cell_type": "code",
   "execution_count": null,
   "id": "c223424d",
   "metadata": {},
   "outputs": [],
   "source": [
    "def get_item_from_db(project: Project) -> Project:\n",
    "    \"\"\"Get Item from a database by given a Job dataclass template\"\"\"\n",
    "    handler = DynamoOrm(project, DYNAMO_TABLE)\n",
    "    resp = handler.get_item()\n",
    "    if resp[\"status\"] == 200:\n",
    "        new_data = project.from_dict(resp[\"data\"])\n",
    "        return new_data\n",
    "    raise DataBaseOperationError(\"Unable to find Project metadata from the database.\")"
   ]
  },
  {
   "cell_type": "code",
   "execution_count": null,
   "id": "7fae4dcf",
   "metadata": {},
   "outputs": [],
   "source": [
    "def check_object(metadata: Project) -> bool:\n",
    "    \"\"\"Get the path of the object from s3 from metadata bucket and key\"\"\"\n",
    "    try:\n",
    "        resource = S3_RESOURCE.Object(bucket_name=ENV_VARS.bucket, key=metadata.bucket_key)\n",
    "        resource.load()\n",
    "        return True\n",
    "    except Exception as e:\n",
    "        LOGGER.info(e)\n",
    "        raise ContentNotFoundError(f\"Document not found for the project: {metadata.SK}\")"
   ]
  },
  {
   "cell_type": "code",
   "execution_count": null,
   "id": "da176d2d",
   "metadata": {},
   "outputs": [],
   "source": [
    "def process_request(pid: str) -> t.Dict:\n",
    "    \"\"\"Then acting main function which handle the whole process from the payload inputs\"\"\"\n",
    "    pk = \"proj#project\"\n",
    "    sk = pid\n",
    "    template = Project(PK=pk, SK=sk, name='', updated_by='', updated_at='')\n",
    "    metadata = get_item_from_db(template)\n",
    "    file_exist = check_object(metadata=metadata)\n",
    "    resp = {\"status\": 200, \"data\": {\"added\": file_exist}}\n",
    "    return resp"
   ]
  },
  {
   "cell_type": "code",
   "execution_count": null,
   "id": "258edb8a",
   "metadata": {},
   "outputs": [],
   "source": [
    "def handler(event, context):\n",
    "    \"\"\"Handler function for the API gateway\"\"\"\n",
    "    default_data = {\"added\": False}\n",
    "    param_list = [\"pid\"]\n",
    "    query_param = event.get(\"queryStringParameters\", {})\n",
    "    try:\n",
    "        query_parameter_ok(expected=param_list, requested=query_param)\n",
    "        resp = process_request(pid=query_param[\"pid\"])\n",
    "        return {\"statusCode\": resp[\"status\"], \"body\": json.dumps(resp, cls=DecimalEncoder)}\n",
    "    except ParameterMissingError as e:\n",
    "        LOGGER.info(e)\n",
    "        return create_response_from_param_exception(exception=e, data={})\n",
    "    except DataBaseOperationError as e:\n",
    "        LOGGER.info(e)\n",
    "        return create_response_from_exception(exception=e, data={})\n",
    "    except ContentNotFoundError as e:\n",
    "        LOGGER.info(e)\n",
    "        return create_response_from_not_found_exception(exception=e, data={})\n",
    "    except Exception as e:\n",
    "        LOGGER.info(e)\n",
    "        return create_response_from_exception(exception=e, data=default_data)"
   ]
  }
 ],
 "metadata": {
  "kernelspec": {
   "display_name": "Python 3 (ipykernel)",
   "language": "python",
   "name": "python3"
  },
  "language_info": {
   "codemirror_mode": {
    "name": "ipython",
    "version": 3
   },
   "file_extension": ".py",
   "mimetype": "text/x-python",
   "name": "python",
   "nbconvert_exporter": "python",
   "pygments_lexer": "ipython3",
   "version": "3.9.14"
  }
 },
 "nbformat": 4,
 "nbformat_minor": 5
}
