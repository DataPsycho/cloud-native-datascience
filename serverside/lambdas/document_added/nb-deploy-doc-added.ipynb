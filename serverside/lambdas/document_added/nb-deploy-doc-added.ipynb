{
 "cells": [
  {
   "cell_type": "code",
   "execution_count": null,
   "id": "cb911f09",
   "metadata": {},
   "outputs": [],
   "source": [
    "!./build.sh"
   ]
  },
  {
   "cell_type": "code",
   "execution_count": null,
   "id": "d74826dc",
   "metadata": {},
   "outputs": [],
   "source": [
    "!./format.sh\n",
    "!echo \"=== Testing Removing Unused Import and Varialbe ===\"\n",
    "!autoflake --in-place --remove-unused-variables --remove-all-unused-imports doc_added.py"
   ]
  },
  {
   "cell_type": "code",
   "execution_count": null,
   "id": "63d2a708",
   "metadata": {},
   "outputs": [],
   "source": [
    "import os\n",
    "\n",
    "from deploykit import (\n",
    "    build_package,\n",
    "    upload_package, \n",
    "    deploy_pacakge, \n",
    "    update_package_code,\n",
    "    update_env_vars\n",
    ")"
   ]
  },
  {
   "cell_type": "markdown",
   "id": "e5119530",
   "metadata": {},
   "source": [
    "# Test Lambda"
   ]
  },
  {
   "cell_type": "code",
   "execution_count": null,
   "id": "c4a8331d",
   "metadata": {},
   "outputs": [],
   "source": [
    "from doc_added import handler"
   ]
  },
  {
   "cell_type": "code",
   "execution_count": null,
   "id": "f5411e11",
   "metadata": {},
   "outputs": [],
   "source": [
    "# A success Test\n",
    "test_event = {\"queryStringParameters\": {\"pid\": os.environ[\"TEMP_PROJECT_NAME\"]}}\n",
    "response = handler(event=test_event, context=None)"
   ]
  },
  {
   "cell_type": "code",
   "execution_count": null,
   "id": "378ff46c-f0aa-4d38-bd8b-bed1abf55e9f",
   "metadata": {},
   "outputs": [],
   "source": [
    "assert response['statusCode'] == 200"
   ]
  },
  {
   "cell_type": "code",
   "execution_count": null,
   "id": "1d35ef66-06f3-46fa-9dd9-2ff3b390ffa6",
   "metadata": {},
   "outputs": [],
   "source": [
    "# Test A failed response\n",
    "test_event = {\"queryStringParameters\": {\"pid\": \"asdf\"}}\n",
    "response = handler(event=test_event, context=None)"
   ]
  },
  {
   "cell_type": "code",
   "execution_count": null,
   "id": "99f1ed68-406a-420a-9b79-51312f6db193",
   "metadata": {},
   "outputs": [],
   "source": [
    "assert response['statusCode'] == 500"
   ]
  },
  {
   "cell_type": "markdown",
   "id": "0dbe3eae",
   "metadata": {
    "tags": []
   },
   "source": [
    "# Deploy Lambda Handler"
   ]
  },
  {
   "cell_type": "code",
   "execution_count": null,
   "id": "b57331df",
   "metadata": {},
   "outputs": [],
   "source": [
    "# !pip install --upgrade -r requirements.txt --target ./packages"
   ]
  },
  {
   "cell_type": "code",
   "execution_count": null,
   "id": "55819144",
   "metadata": {},
   "outputs": [],
   "source": [
    "BUCKET = os.environ['BUCKET']\n",
    "BUCKET_KEY = \"lambdas/doc-added.zip\"\n",
    "FUNCTION_NAME = \"quack-tsln-doc-added\"\n",
    "ENV_DYNAMODB = os.environ[\"DB_NAME\"]\n",
    "ENV_BUCKET = os.environ[\"BUCKET\"]\n",
    "ENV_VARIABLES = {\n",
    "    'Variables': {\n",
    "        'BUCKET': BUCKET, \n",
    "        'DB_NAME': ENV_DYNAMODB, \n",
    "        \"LAMBDA_RUNTIME_ENV\": \"cloud\",\n",
    "    }\n",
    "}\n",
    "CODE_INFO = {\"S3Bucket\": BUCKET, \"S3Key\": BUCKET_KEY}\n",
    "PACKAGE = BUCKET_KEY.replace(\"lambdas/\", \"\")"
   ]
  },
  {
   "cell_type": "code",
   "execution_count": null,
   "id": "0b4397f2",
   "metadata": {},
   "outputs": [],
   "source": [
    "build_package(PACKAGE)"
   ]
  },
  {
   "cell_type": "code",
   "execution_count": null,
   "id": "69f2242a",
   "metadata": {},
   "outputs": [],
   "source": [
    "upload_package(PACKAGE, BUCKET, BUCKET_KEY)"
   ]
  },
  {
   "cell_type": "code",
   "execution_count": null,
   "id": "4b89c072",
   "metadata": {},
   "outputs": [],
   "source": [
    "DESC = \"Check if document is added for a project or not\"\n",
    "MAIN_PYFILE = \"doc_added\""
   ]
  },
  {
   "cell_type": "code",
   "execution_count": null,
   "id": "6e8219f8",
   "metadata": {},
   "outputs": [],
   "source": [
    "try:\n",
    "    deploy_pacakge(\n",
    "        function_name=FUNCTION_NAME, \n",
    "        handler=MAIN_PYFILE,\n",
    "        timeout=180, \n",
    "        desc=DESC, \n",
    "        env_vars=ENV_VARIABLES,\n",
    "        code_info=CODE_INFO,\n",
    "        memory_size=128\n",
    "    )\n",
    "except Exception as e:\n",
    "    print(e)\n",
    "    update_package_code(function_name=FUNCTION_NAME, bucket=BUCKET, key=BUCKET_KEY)"
   ]
  },
  {
   "cell_type": "code",
   "execution_count": null,
   "id": "34a4ff07",
   "metadata": {},
   "outputs": [],
   "source": [
    "update_env_vars(function_name=FUNCTION_NAME, envvars=ENV_VARIABLES)"
   ]
  },
  {
   "cell_type": "code",
   "execution_count": null,
   "id": "9f2fdef2",
   "metadata": {},
   "outputs": [],
   "source": [
    "# Create Query Parameter\n",
    "# \"&\".join([f\"{key}={value}\" for key, value in test_event[\"queryStringParameters\"].items()])"
   ]
  }
 ],
 "metadata": {
  "kernelspec": {
   "display_name": "Python 3 (ipykernel)",
   "language": "python",
   "name": "python3"
  },
  "language_info": {
   "codemirror_mode": {
    "name": "ipython",
    "version": 3
   },
   "file_extension": ".py",
   "mimetype": "text/x-python",
   "name": "python",
   "nbconvert_exporter": "python",
   "pygments_lexer": "ipython3",
   "version": "3.9.14"
  }
 },
 "nbformat": 4,
 "nbformat_minor": 5
}
