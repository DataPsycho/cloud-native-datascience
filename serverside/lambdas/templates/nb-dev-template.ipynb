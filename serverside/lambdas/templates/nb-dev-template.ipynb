{
 "cells": [
  {
   "cell_type": "code",
   "execution_count": 1,
   "id": "5c5c4f25",
   "metadata": {},
   "outputs": [],
   "source": [
    "import os\n",
    "import json\n",
    "import typing as t\n",
    "import boto3\n",
    "\n",
    "\n",
    "from domainmodel import DomainModel\n",
    "from microkit.orm import DynamoOrm\n",
    "from microkit.utils import collect_cet_now, DecimalEncoder\n",
    "from microkit.exceptions import ParameterMissingError, DataBaseOperationError, JobInitError, ContentNotFoundError\n",
    "from microkit.logger import Logger\n",
    "from microkit.exceptions import (\n",
    "    create_response_from_exception, \n",
    "    create_response_from_param_exception, \n",
    "    query_parameter_ok, \n",
    "    create_response_from_not_found_exception\n",
    ")\n",
    "from microkit.logger import Logger\n",
    "from microkit.exceptions import create_response_from_exception, create_response_from_param_exception, query_parameter_ok"
   ]
  },
  {
   "cell_type": "markdown",
   "id": "64dc0eca",
   "metadata": {},
   "source": [
    "# ===> Delete from Pyfile before Deploy "
   ]
  },
  {
   "cell_type": "code",
   "execution_count": null,
   "id": "bc37e976",
   "metadata": {},
   "outputs": [],
   "source": [
    "from dotenv import load_dotenv  # isort:skip"
   ]
  },
  {
   "cell_type": "code",
   "execution_count": 3,
   "id": "32e36349",
   "metadata": {},
   "outputs": [],
   "source": [
    "assert load_dotenv('/home/ec2-user/SageMaker/.env')"
   ]
  },
  {
   "cell_type": "markdown",
   "id": "6fe45c40",
   "metadata": {},
   "source": [
    "# ===> Delete from Pyfile before Deploy "
   ]
  },
  {
   "cell_type": "code",
   "execution_count": 4,
   "id": "a8a1b25d",
   "metadata": {},
   "outputs": [],
   "source": [
    "BUCKET_NAME = os.environ['BUCKET']\n",
    "SESSION = boto3.session.Session()\n",
    "S3_CLEINT = SESSION.client('s3')\n",
    "DYNAMODB_RESOURCE = SESSION.resource('dynamodb')\n",
    "DYNAMO_TABLE = DYNAMODB_RESOURCE.Table(os.environ['DYNAMODB'])\n",
    "S3_RESOURCE = SESSION.resource(\"s3\")\n",
    "LOGGER = Logger(environ=os.environ[\"ENVIRON\"], context=str(__name__))"
   ]
  },
  {
   "cell_type": "code",
   "execution_count": 10,
   "id": "ff97ef62",
   "metadata": {},
   "outputs": [],
   "source": [
    "def process_request(payload: t.Dict) -> t.Dict:\n",
    "    \"\"\" Process the Request into Success of Failure category based on status\n",
    "    param: request: request data to send to dynamodb\n",
    "    \"\"\"\n",
    "    # do Simething\n",
    "    get_some_result = #\n",
    "    if get_some_result[\"status\"] == 500:\n",
    "        response = orm_handler.put_item()\n",
    "        return return_by_status_code(response)\n",
    "    else:\n",
    "        raise DataBaseOperationError"
   ]
  },
  {
   "cell_type": "code",
   "execution_count": 11,
   "id": "0301acb0",
   "metadata": {},
   "outputs": [],
   "source": [
    "def handler(event, context):\n",
    "    \"\"\"Handler function for the API gateway\"\"\"\n",
    "    param_list = [\"franchise\", \"acting\", \"indication\", \"doctype\", \"study_name\", \"qlephrase\", \"updated_by\"]\n",
    "    try:\n",
    "        request = json.loads(event[\"body\"])\n",
    "        query_parameter_ok(param_list, request)\n",
    "        resp = process_request(payload=request)\n",
    "        return {\"statusCode\": resp[\"status\"], \"body\": json.dumps(resp, cls=DecimalEncoder)}\n",
    "    except ParameterMissingError as e:\n",
    "        LOGGER.printlog(e)\n",
    "        return create_response_from_param_exception(exception=e, data={})\n",
    "    except Exception as e:\n",
    "        LOGGER.printlog(e)\n",
    "        return create_response_from_exception(exception=e, data={})"
   ]
  },
  {
   "cell_type": "markdown",
   "id": "d27bcb5d",
   "metadata": {},
   "source": [
    "# ===> Delete from Pyfile before Deploy "
   ]
  },
  {
   "cell_type": "code",
   "execution_count": 1,
   "id": "2208a1bd",
   "metadata": {},
   "outputs": [],
   "source": [
    "# Testing the Result\n",
    "# test_event_dict = {}\n",
    "# test_event = {\"body\": json.dumps(test_event_dict)}\n",
    "# handler(event=test_event, context=_)"
   ]
  },
  {
   "cell_type": "markdown",
   "id": "780c4ae3",
   "metadata": {},
   "source": [
    "# ===> Delete from Pyfile before Deploy "
   ]
  }
 ],
 "metadata": {
  "kernelspec": {
   "display_name": "conda_dosjobs",
   "language": "python",
   "name": "conda_dosjobs"
  },
  "language_info": {
   "codemirror_mode": {
    "name": "ipython",
    "version": 3
   },
   "file_extension": ".py",
   "mimetype": "text/x-python",
   "name": "python",
   "nbconvert_exporter": "python",
   "pygments_lexer": "ipython3",
   "version": "3.6.13"
  }
 },
 "nbformat": 4,
 "nbformat_minor": 5
}
