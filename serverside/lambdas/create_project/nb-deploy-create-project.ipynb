{
 "cells": [
  {
   "cell_type": "code",
   "execution_count": null,
   "id": "8514f7ec",
   "metadata": {},
   "outputs": [],
   "source": [
    "!./build.sh"
   ]
  },
  {
   "cell_type": "code",
   "execution_count": null,
   "id": "922d19b1",
   "metadata": {},
   "outputs": [],
   "source": [
    "!./format.sh\n",
    "!echo \"=== Testing Removing Unused Import and Varialbe ===\"\n",
    "!autoflake --in-place --remove-unused-variables --remove-all-unused-imports create_project.py"
   ]
  },
  {
   "cell_type": "code",
   "execution_count": null,
   "id": "7c496578",
   "metadata": {},
   "outputs": [],
   "source": [
    "import os\n",
    "\n",
    "from deploykit import (\n",
    "    build_package,\n",
    "    upload_package, \n",
    "    deploy_pacakge, \n",
    "    update_package_code,\n",
    "    update_env_vars\n",
    ")\n",
    "\n",
    "from dotenv import load_dotenv\n",
    "import json"
   ]
  },
  {
   "cell_type": "markdown",
   "id": "e4b36ab5",
   "metadata": {},
   "source": [
    "# Test Lambda"
   ]
  },
  {
   "cell_type": "code",
   "execution_count": null,
   "id": "7ddd69e0",
   "metadata": {},
   "outputs": [],
   "source": [
    "from create_project import handler\n",
    "from microkit.utils import collect_cet_now"
   ]
  },
  {
   "cell_type": "code",
   "execution_count": null,
   "id": "b949f875",
   "metadata": {},
   "outputs": [],
   "source": [
    "payload_dict = {\n",
    "    'name': 'Test 01', \n",
    "    'updated_by': 'pluto',\n",
    "    \"updated_at\": collect_cet_now()\n",
    "}\n",
    "test_event = {\"body\": json.dumps(payload_dict)}\n",
    "response = handler(event=test_event, context=_)"
   ]
  },
  {
   "cell_type": "code",
   "execution_count": null,
   "id": "14d45695",
   "metadata": {},
   "outputs": [],
   "source": [
    "assert response['statusCode'] == 200 "
   ]
  },
  {
   "cell_type": "markdown",
   "id": "2413d738",
   "metadata": {},
   "source": [
    "# Deploy Lambda Handler"
   ]
  },
  {
   "cell_type": "code",
   "execution_count": null,
   "id": "8fd6ff62",
   "metadata": {},
   "outputs": [],
   "source": [
    "# !pip install --upgrade -r requirements.txt --target ./packages"
   ]
  },
  {
   "cell_type": "code",
   "execution_count": null,
   "id": "3c8e8319",
   "metadata": {},
   "outputs": [],
   "source": [
    "BUCKET = os.environ['BUCKET']\n",
    "BUCKET_KEY = \"lambdas/create-project.zip\"\n",
    "FUNCTION_NAME = \"quack-tsln-create-project\"\n",
    "ENV_DYNAMODB = os.environ[\"DB_NAME\"]\n",
    "ENV_VARIABLES = {\n",
    "    'Variables': {\n",
    "        'BUCKET': BUCKET, \n",
    "        'DB_NAME': ENV_DYNAMODB, \n",
    "        \"LAMBDA_RUNTIME_ENV\": \"cloud\",\n",
    "    }\n",
    "}\n",
    "CODE_INFO = {\"S3Bucket\": BUCKET, \"S3Key\": BUCKET_KEY}\n",
    "PACKAGE = BUCKET_KEY.replace(\"lambdas/\", \"\")"
   ]
  },
  {
   "cell_type": "code",
   "execution_count": null,
   "id": "172544b0",
   "metadata": {},
   "outputs": [],
   "source": [
    "build_package(PACKAGE)"
   ]
  },
  {
   "cell_type": "code",
   "execution_count": null,
   "id": "7a2657cd",
   "metadata": {},
   "outputs": [],
   "source": [
    "upload_package(PACKAGE, BUCKET, BUCKET_KEY)"
   ]
  },
  {
   "cell_type": "code",
   "execution_count": null,
   "id": "2365cf44",
   "metadata": {},
   "outputs": [],
   "source": [
    "DESC = \"Lambda to Create a Project\"\n",
    "MAIN_PYFILE = \"create_project\""
   ]
  },
  {
   "cell_type": "code",
   "execution_count": null,
   "id": "63222497",
   "metadata": {},
   "outputs": [],
   "source": [
    "try:\n",
    "    deploy_pacakge(\n",
    "        function_name=FUNCTION_NAME, \n",
    "        handler=MAIN_PYFILE,\n",
    "        timeout=180, \n",
    "        desc=DESC, \n",
    "        env_vars=ENV_VARIABLES,\n",
    "        code_info=CODE_INFO,\n",
    "        memory_size=128\n",
    "    )\n",
    "except Exception as e:\n",
    "    print(e)\n",
    "    update_package_code(function_name=FUNCTION_NAME, bucket=BUCKET, key=BUCKET_KEY)"
   ]
  },
  {
   "cell_type": "code",
   "execution_count": null,
   "id": "77de3d2e",
   "metadata": {},
   "outputs": [],
   "source": [
    "update_env_vars(function_name=FUNCTION_NAME, envvars=ENV_VARIABLES)"
   ]
  },
  {
   "cell_type": "code",
   "execution_count": null,
   "id": "17bbfdcb",
   "metadata": {},
   "outputs": [],
   "source": [
    "# Create Query Parameter\n",
    "# \"&\".join([f\"{key}={value}\" for key, value in test_event[\"queryStringParameters\"].items()])"
   ]
  }
 ],
 "metadata": {
  "kernelspec": {
   "display_name": "Python 3 (ipykernel)",
   "language": "python",
   "name": "python3"
  },
  "language_info": {
   "codemirror_mode": {
    "name": "ipython",
    "version": 3
   },
   "file_extension": ".py",
   "mimetype": "text/x-python",
   "name": "python",
   "nbconvert_exporter": "python",
   "pygments_lexer": "ipython3",
   "version": "3.9.14"
  }
 },
 "nbformat": 4,
 "nbformat_minor": 5
}
