{
 "cells": [
  {
   "cell_type": "code",
   "execution_count": 1,
   "id": "15f53c23",
   "metadata": {},
   "outputs": [],
   "source": [
    "import json\n",
    "import typing as t\n",
    "import boto3"
   ]
  },
  {
   "cell_type": "code",
   "execution_count": 2,
   "id": "e4df4795-2675-4376-9560-46bc4c15159e",
   "metadata": {},
   "outputs": [],
   "source": [
    "from domainmodel import Project\n",
    "from microkit.orm import DynamoOrm\n",
    "from microkit.utils import collect_cet_now, load_env_vars, return_by_status_code, DecimalEncoder\n",
    "from microkit.exceptions import ParameterMissingError, DataBaseOperationError\n",
    "from microkit.logger import get_logger\n",
    "from microkit.exceptions import create_response_from_exception, create_response_from_param_exception, query_parameter_ok"
   ]
  },
  {
   "cell_type": "code",
   "execution_count": 3,
   "id": "2dc5ea76-5d0f-4516-ad95-0776f55165a9",
   "metadata": {},
   "outputs": [],
   "source": [
    "LOGGER = get_logger(str(__name__))\n",
    "ENV_VARS = load_env_vars()"
   ]
  },
  {
   "cell_type": "code",
   "execution_count": 4,
   "id": "a759ea6d",
   "metadata": {},
   "outputs": [
    {
     "name": "stderr",
     "output_type": "stream",
     "text": [
      "2022-12-10 22:40:55 [INFO] botocore.credentials - Found credentials in shared credentials file: ~/.aws/credentials\n"
     ]
    }
   ],
   "source": [
    "SESSION = boto3.session.Session()\n",
    "DYNAMODB_RESOURCE = SESSION.resource('dynamodb')\n",
    "DYNAMO_TABLE = DYNAMODB_RESOURCE.Table(ENV_VARS.db)"
   ]
  },
  {
   "cell_type": "code",
   "execution_count": 5,
   "id": "c5e507e6",
   "metadata": {},
   "outputs": [],
   "source": [
    "def process_request(payload: t.Dict) -> t.Dict:\n",
    "    \"\"\" Process the Request into Success of Failure category based on status\n",
    "    param: request: request data to send to dynamodb\n",
    "    \"\"\"\n",
    "    attribute = Project.from_attribute_data(\n",
    "        name=payload[\"name\"],\n",
    "        updated_by=payload[\"updated_by\"],\n",
    "        updated_at=collect_cet_now()\n",
    "    )\n",
    "    orm_handler = DynamoOrm(data=attribute, table=DYNAMO_TABLE)\n",
    "    if orm_handler.get_item()[\"status\"] == 500:\n",
    "        response = orm_handler.put_item()\n",
    "        return return_by_status_code(response)\n",
    "    else:\n",
    "        raise DataBaseOperationError"
   ]
  },
  {
   "cell_type": "code",
   "execution_count": 6,
   "id": "9f000630",
   "metadata": {},
   "outputs": [],
   "source": [
    "def handler(event, context):\n",
    "    \"\"\"Handler function for the API gateway\"\"\"\n",
    "    param_list = [\"name\", \"updated_by\"]\n",
    "    try:\n",
    "        request = json.loads(event[\"body\"])\n",
    "        query_parameter_ok(param_list, request)\n",
    "        resp = process_request(payload=request)\n",
    "        return {\"statusCode\": resp[\"status\"], \"body\": json.dumps(resp, cls=DecimalEncoder)}\n",
    "    except ParameterMissingError as e:\n",
    "        LOGGER.info(e)\n",
    "        return create_response_from_param_exception(exception=e, data={})\n",
    "    except Exception as e:\n",
    "        LOGGER.info(e)\n",
    "        return create_response_from_exception(exception=e, data={})"
   ]
  }
 ],
 "metadata": {
  "kernelspec": {
   "display_name": "Python 3 (ipykernel)",
   "language": "python",
   "name": "python3"
  },
  "language_info": {
   "codemirror_mode": {
    "name": "ipython",
    "version": 3
   },
   "file_extension": ".py",
   "mimetype": "text/x-python",
   "name": "python",
   "nbconvert_exporter": "python",
   "pygments_lexer": "ipython3",
   "version": "3.9.14"
  }
 },
 "nbformat": 4,
 "nbformat_minor": 5
}
