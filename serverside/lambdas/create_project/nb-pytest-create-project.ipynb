{
 "cells": [
  {
   "cell_type": "code",
   "execution_count": 7,
   "id": "ab56383e",
   "metadata": {},
   "outputs": [
    {
     "name": "stdout",
     "output_type": "stream",
     "text": [
      "\u001b[1m============================= test session starts ==============================\u001b[0m\n",
      "platform darwin -- Python 3.9.14, pytest-7.2.0, pluggy-1.0.0 -- /Users/ALAMSHC/Library/Caches/pypoetry/virtualenvs/awsinternalbusiness-KEPjfAoj-py3.9/bin/python\n",
      "cachedir: .pytest_cache\n",
      "rootdir: /Users/ALAMSHC/PycharmProjects/AwsInternalBusiness, configfile: pyproject.toml\n",
      "plugins: cov-4.0.0, anyio-3.6.2\n",
      "collected 1 item                                                               \u001b[0m\n",
      "\n",
      "tests/test_domainmodel.py::test_from_attrubute_data \u001b[32mPASSED\u001b[0m\u001b[32m               [100%]\u001b[0m\n",
      "\n",
      "\u001b[32m============================== \u001b[32m\u001b[1m1 passed\u001b[0m\u001b[32m in 0.04s\u001b[0m\u001b[32m ===============================\u001b[0m\n"
     ]
    }
   ],
   "source": [
    "!pytest"
   ]
  }
 ],
 "metadata": {
  "kernelspec": {
   "display_name": "Python 3 (ipykernel)",
   "language": "python",
   "name": "python3"
  },
  "language_info": {
   "codemirror_mode": {
    "name": "ipython",
    "version": 3
   },
   "file_extension": ".py",
   "mimetype": "text/x-python",
   "name": "python",
   "nbconvert_exporter": "python",
   "pygments_lexer": "ipython3",
   "version": "3.9.14"
  }
 },
 "nbformat": 4,
 "nbformat_minor": 5
}
