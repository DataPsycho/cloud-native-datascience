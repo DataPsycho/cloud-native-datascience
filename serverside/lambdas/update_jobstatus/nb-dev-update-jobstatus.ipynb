{
 "cells": [
  {
   "cell_type": "code",
   "execution_count": null,
   "id": "aee6d105-4b76-4fd2-85e8-5875c71dc785",
   "metadata": {},
   "outputs": [],
   "source": [
    "import json\n",
    "import typing as t\n",
    "import boto3"
   ]
  },
  {
   "cell_type": "code",
   "execution_count": null,
   "id": "8da26f05",
   "metadata": {},
   "outputs": [],
   "source": [
    "from domainmodel import Job\n",
    "from microkit.orm import DynamoOrm\n",
    "from microkit.utils import collect_cet_now, DecimalEncoder, load_env_vars\n",
    "from microkit.exceptions import ParameterMissingError, DataBaseOperationError\n",
    "from microkit.exceptions import query_parameter_ok\n",
    "from microkit.logger import get_logger"
   ]
  },
  {
   "cell_type": "code",
   "execution_count": null,
   "id": "3290cd2d-7d49-40f0-afdd-a645ef07fbae",
   "metadata": {},
   "outputs": [],
   "source": [
    "LOGGER = get_logger(str(__name__))\n",
    "ENV_VARS = load_env_vars()"
   ]
  },
  {
   "cell_type": "code",
   "execution_count": null,
   "id": "09ac7fbc",
   "metadata": {},
   "outputs": [],
   "source": [
    "SESSION = boto3.session.Session()\n",
    "DYNAMODB_RESOURCE = SESSION.resource('dynamodb')\n",
    "DYNAMO_TABLE = DYNAMODB_RESOURCE.Table(ENV_VARS.db)"
   ]
  },
  {
   "cell_type": "code",
   "execution_count": null,
   "id": "5dbb38bd",
   "metadata": {},
   "outputs": [],
   "source": [
    "def update_version_0_pointer(job: Job):\n",
    "    \"\"\"Update the pointer of the file location\"\"\"\n",
    "    sk = f\"{job.entity_type}#v0\"\n",
    "    job_info = Job.from_keys(pk=job.PK, sk=sk)\n",
    "    dynamo_handler = DynamoOrm(job_info, DYNAMO_TABLE)\n",
    "    resp = dynamo_handler.get_item()\n",
    "    if resp[\"status\"] == 200:\n",
    "        v0_repo = Job.from_dict(resp[\"data\"])\n",
    "        v0_repo.bucket = job.bucket\n",
    "        v0_repo.bucket_key = job.bucket_key\n",
    "        v0_repo.finished_at = job.finished_at\n",
    "        v0_repo.version_pointer = job.version\n",
    "        dynamo_handler = DynamoOrm(v0_repo, DYNAMO_TABLE)\n",
    "        resp = dynamo_handler.update_all()\n",
    "        return resp\n",
    "    else: \n",
    "        raise DataBaseOperationError(\"Could not update the version0 with Dossier Job attribute\")"
   ]
  },
  {
   "cell_type": "code",
   "execution_count": null,
   "id": "48a399f3",
   "metadata": {},
   "outputs": [],
   "source": [
    "def update_job(pk: str, sk: str, exec_status: str) -> t.Union[t.Dict, None]:\n",
    "    \"\"\"Update a Status of the Job by given data\"\"\"\n",
    "    status = \"completed\"\n",
    "    if exec_status == \"TaskFailed\":\n",
    "        status = \"failed\"\n",
    "    job_info = Job.from_keys(pk=pk, sk=sk)\n",
    "    dynamo_handler = DynamoOrm(job_info, DYNAMO_TABLE)\n",
    "    resp = dynamo_handler.get_item()\n",
    "    if resp[\"status\"] == 200:\n",
    "        new_job_instance = Job.from_dict(resp[\"data\"])\n",
    "        data = new_job_instance.to_dict()\n",
    "        data[\"status\"] = status\n",
    "        data[\"finished_at\"] = collect_cet_now()\n",
    "        updated_repo = Job.from_dict(data)\n",
    "        dynamo_handler = DynamoOrm(updated_repo, DYNAMO_TABLE)\n",
    "        resp = dynamo_handler.update_all()\n",
    "        _  = update_version_0_pointer(updated_repo)\n",
    "        return resp\n",
    "    return None"
   ]
  },
  {
   "cell_type": "code",
   "execution_count": null,
   "id": "a724516e",
   "metadata": {},
   "outputs": [],
   "source": [
    "def process_request(payload: t.Dict) -> t.Dict:\n",
    "    \"\"\"Then acting main function which handle the whole process from the payload inputs\n",
    "    :param payload: A dictionary Payload from stepfunction to update the Jobs\n",
    "    \"\"\"\n",
    "    \n",
    "    pk = payload[\"inputs\"][\"job_pk\"]\n",
    "    sk = payload[\"inputs\"][\"job_sk\"]\n",
    "    exec_status = payload[\"execStatus\"]\n",
    "    resp = update_job(pk=pk, sk=sk, exec_status=exec_status)\n",
    "    if resp:\n",
    "        return resp\n",
    "    raise DataBaseOperationError(\"From Process request can not update the Database.\")"
   ]
  },
  {
   "cell_type": "code",
   "execution_count": null,
   "id": "c98ce365",
   "metadata": {},
   "outputs": [],
   "source": [
    "def handler(event, context):\n",
    "    \"\"\"Handler function for the API gateway\"\"\"\n",
    "    param_list = [\"inputs\", \"execStatus\"]\n",
    "    try:\n",
    "        request = event\n",
    "        query_parameter_ok(param_list, request)\n",
    "        resp = process_request(payload=request)\n",
    "        resp = json.loads(json.dumps(resp, cls=DecimalEncoder))\n",
    "        return {\"statusCode\": 200, \"data\": resp[\"data\"]}\n",
    "    except ParameterMissingError as e:\n",
    "        LOGGER.printlog(e)\n",
    "        return {\"statusCode\": 500, \"data\": {}}\n",
    "    except Exception as e:\n",
    "        LOGGER.printlog(e)\n",
    "        return {\"statusCode\": 500, \"data\": {}}"
   ]
  }
 ],
 "metadata": {
  "kernelspec": {
   "display_name": "Python 3 (ipykernel)",
   "language": "python",
   "name": "python3"
  },
  "language_info": {
   "codemirror_mode": {
    "name": "ipython",
    "version": 3
   },
   "file_extension": ".py",
   "mimetype": "text/x-python",
   "name": "python",
   "nbconvert_exporter": "python",
   "pygments_lexer": "ipython3",
   "version": "3.9.14"
  }
 },
 "nbformat": 4,
 "nbformat_minor": 5
}
