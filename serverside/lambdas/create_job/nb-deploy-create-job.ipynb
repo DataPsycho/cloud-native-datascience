{
 "cells": [
  {
   "cell_type": "code",
   "execution_count": 17,
   "id": "4cf138fd",
   "metadata": {},
   "outputs": [
    {
     "name": "stdout",
     "output_type": "stream",
     "text": [
      "[NbConvertApp] Converting notebook nb-dev-create-job.ipynb to script\n",
      "[NbConvertApp] Writing 8585 bytes to nb-dev-create-job.py\n",
      "creating pyfile: create_job.py\n"
     ]
    }
   ],
   "source": [
    "!./build.sh"
   ]
  },
  {
   "cell_type": "code",
   "execution_count": 18,
   "id": "8be6ea33",
   "metadata": {},
   "outputs": [
    {
     "name": "stdout",
     "output_type": "stream",
     "text": [
      "=== Sorting with ISORT ===\n",
      "Fixing /Users/ALAMSHC/PycharmProjects/AwsInternalBusiness/serverside/lambdas/create_job/create_job.py\n",
      "=== Formatting with AUTOPEP8 ===\n",
      "=== Testing with Flake8 ===\n",
      "=== Please deleted the sections with marked ===> before further deployment ===\n",
      "=== NOW PLEASE REMOVE THE TEST CODE FROM THE GENERATED FILES ===\n",
      "=== Testing Removing Unused Import and Varialbe ===\n"
     ]
    }
   ],
   "source": [
    "!./format.sh\n",
    "!echo \"=== Testing Removing Unused Import and Varialbe ===\"\n",
    "!autoflake --in-place --remove-unused-variables --remove-all-unused-imports create_job.py"
   ]
  },
  {
   "cell_type": "code",
   "execution_count": 19,
   "id": "fa18add7",
   "metadata": {},
   "outputs": [],
   "source": [
    "import os\n",
    "\n",
    "from deploykit import (\n",
    "    build_package,\n",
    "    upload_package, \n",
    "    deploy_pacakge, \n",
    "    update_package_code,\n",
    "    update_env_vars\n",
    ")\n",
    "import json"
   ]
  },
  {
   "cell_type": "markdown",
   "id": "c5de3343",
   "metadata": {},
   "source": [
    "# Test Lambda"
   ]
  },
  {
   "cell_type": "code",
   "execution_count": 20,
   "id": "a12f8c83",
   "metadata": {},
   "outputs": [],
   "source": [
    "from create_job import handler"
   ]
  },
  {
   "cell_type": "code",
   "execution_count": 21,
   "id": "7f126cdd",
   "metadata": {},
   "outputs": [],
   "source": [
    "# Testing the Result\n",
    "test_event_json = {\n",
    "    \"sk\": os.environ[\"TEMP_PROJECT_NAME\"], \n",
    "    \"requested_by\": \"pluto\"\n",
    "}\n",
    "\n",
    "# process_request(test_event_json)\n",
    "test_event = {\"body\": json.dumps(test_event_json)}\n",
    "response = handler(event=test_event, context=_)"
   ]
  },
  {
   "cell_type": "code",
   "execution_count": 22,
   "id": "185e33fc",
   "metadata": {},
   "outputs": [],
   "source": [
    "assert response['statusCode'] == 200 "
   ]
  },
  {
   "cell_type": "markdown",
   "id": "a6dfaee2",
   "metadata": {},
   "source": [
    "# Deploy Lambda Handler"
   ]
  },
  {
   "cell_type": "code",
   "execution_count": null,
   "id": "7ca08846",
   "metadata": {},
   "outputs": [],
   "source": [
    "# !pip install --upgrade -r requirements.txt --target ./packages"
   ]
  },
  {
   "cell_type": "code",
   "execution_count": 23,
   "id": "cf24d5aa",
   "metadata": {},
   "outputs": [],
   "source": [
    "BUCKET = os.environ['BUCKET']\n",
    "BUCKET_KEY = \"lambdas/create-job-step.zip\"\n",
    "FUNCTION_NAME = \"quack-tsln-create-job-step\"\n",
    "ENV_DYNAMODB = os.environ[\"DB_NAME\"]\n",
    "\n",
    "ENV_VARIABLES = {\n",
    "    'Variables': {\n",
    "        'BUCKET': BUCKET, \n",
    "        'DB_NAME': ENV_DYNAMODB, \n",
    "        \"LAMBDA_RUNTIME_ENV\": \"cloud\",\n",
    "        \"SFN_WORKFLOW_ARN\": os.environ[\"SFN_WORKFLOW_ARN\"]\n",
    "    }\n",
    "}\n",
    "CODE_INFO = {\"S3Bucket\": BUCKET, \"S3Key\": BUCKET_KEY}\n",
    "PACKAGE = BUCKET_KEY.replace(\"lambdas/\", \"\")"
   ]
  },
  {
   "cell_type": "code",
   "execution_count": 24,
   "id": "171c6abc",
   "metadata": {},
   "outputs": [
    {
     "name": "stderr",
     "output_type": "stream",
     "text": [
      "2022-12-12 17:55:48 [INFO] deploykit - orm.py file added\n",
      "2022-12-12 17:55:48 [INFO] deploykit - datamodel.py file added\n",
      "2022-12-12 17:55:48 [INFO] deploykit - __init__.py file added\n",
      "2022-12-12 17:55:48 [INFO] deploykit - logger.py file added\n",
      "2022-12-12 17:55:48 [INFO] deploykit - utils.py file added\n",
      "2022-12-12 17:55:48 [INFO] deploykit - exceptions.py file added\n",
      "2022-12-12 17:55:48 [INFO] deploykit - domainmodel.py file added\n",
      "2022-12-12 17:55:48 [INFO] deploykit - create_job.py file added\n",
      "2022-12-12 17:55:48 [INFO] deploykit - Pyfile zipped!\n",
      "2022-12-12 17:55:48 [INFO] deploykit - Package Zipped\n"
     ]
    }
   ],
   "source": [
    "build_package(PACKAGE)"
   ]
  },
  {
   "cell_type": "code",
   "execution_count": 25,
   "id": "d8f84bc1",
   "metadata": {},
   "outputs": [
    {
     "name": "stderr",
     "output_type": "stream",
     "text": [
      "2022-12-12 17:55:50 [INFO] deploykit - Zipfile Uploaded into s3://quack-translation-buddy/lambdas/create-job-step.zip\n"
     ]
    }
   ],
   "source": [
    "upload_package(PACKAGE, BUCKET, BUCKET_KEY)"
   ]
  },
  {
   "cell_type": "code",
   "execution_count": 26,
   "id": "a529937c",
   "metadata": {},
   "outputs": [],
   "source": [
    "DESC = \"Create translation from a step function\"\n",
    "MAIN_PYFILE = \"create_job\""
   ]
  },
  {
   "cell_type": "code",
   "execution_count": 27,
   "id": "5456d5c4",
   "metadata": {},
   "outputs": [
    {
     "name": "stdout",
     "output_type": "stream",
     "text": [
      "An error occurred (ResourceConflictException) when calling the CreateFunction operation: Function already exist: quack-tsln-create-job-step\n"
     ]
    },
    {
     "name": "stderr",
     "output_type": "stream",
     "text": [
      "2022-12-12 17:55:55 [INFO] deploykit - Lambda Code Updated\n"
     ]
    }
   ],
   "source": [
    "try:\n",
    "    deploy_pacakge(\n",
    "        function_name=FUNCTION_NAME, \n",
    "        handler=MAIN_PYFILE,\n",
    "        timeout=180, \n",
    "        desc=DESC, \n",
    "        env_vars=ENV_VARIABLES,\n",
    "        code_info=CODE_INFO,\n",
    "        memory_size=128\n",
    "    )\n",
    "except Exception as e:\n",
    "    print(e)\n",
    "    update_package_code(function_name=FUNCTION_NAME, bucket=BUCKET, key=BUCKET_KEY)"
   ]
  },
  {
   "cell_type": "code",
   "execution_count": 16,
   "id": "0d851555",
   "metadata": {},
   "outputs": [
    {
     "name": "stderr",
     "output_type": "stream",
     "text": [
      "2022-12-12 16:00:56 [INFO] deploykit - Environ Variables Updated\n"
     ]
    }
   ],
   "source": [
    "update_env_vars(function_name=FUNCTION_NAME, envvars=ENV_VARIABLES)"
   ]
  },
  {
   "cell_type": "code",
   "execution_count": null,
   "id": "67ee7695",
   "metadata": {},
   "outputs": [],
   "source": [
    "# Create Query Parameter\n",
    "# \"&\".join([f\"{key}={value}\" for key, value in test_event[\"queryStringParameters\"].items()])"
   ]
  }
 ],
 "metadata": {
  "kernelspec": {
   "display_name": "Python 3 (ipykernel)",
   "language": "python",
   "name": "python3"
  },
  "language_info": {
   "codemirror_mode": {
    "name": "ipython",
    "version": 3
   },
   "file_extension": ".py",
   "mimetype": "text/x-python",
   "name": "python",
   "nbconvert_exporter": "python",
   "pygments_lexer": "ipython3",
   "version": "3.9.14"
  }
 },
 "nbformat": 4,
 "nbformat_minor": 5
}
