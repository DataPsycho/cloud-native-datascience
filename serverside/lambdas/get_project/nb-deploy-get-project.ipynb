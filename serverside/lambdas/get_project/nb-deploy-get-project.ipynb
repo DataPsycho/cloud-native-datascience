{
 "cells": [
  {
   "cell_type": "code",
   "execution_count": null,
   "id": "c5fb6631",
   "metadata": {},
   "outputs": [],
   "source": [
    "!./build.sh"
   ]
  },
  {
   "cell_type": "code",
   "execution_count": null,
   "id": "bb371b64",
   "metadata": {},
   "outputs": [],
   "source": [
    "!./format.sh\n",
    "!echo \"=== Testing Removing Unused Import and Varialbe ===\"\n",
    "!autoflake --in-place --remove-unused-variables --remove-all-unused-imports get_project.py"
   ]
  },
  {
   "cell_type": "code",
   "execution_count": null,
   "id": "ac6ea718",
   "metadata": {},
   "outputs": [],
   "source": [
    "import os\n",
    "\n",
    "from deploykit import (\n",
    "    build_package,\n",
    "    upload_package, \n",
    "    deploy_pacakge, \n",
    "    update_package_code,\n",
    "    update_env_vars\n",
    ")"
   ]
  },
  {
   "cell_type": "markdown",
   "id": "39cefea7",
   "metadata": {},
   "source": [
    "# Test Lambda"
   ]
  },
  {
   "cell_type": "code",
   "execution_count": null,
   "id": "de49b782",
   "metadata": {},
   "outputs": [],
   "source": [
    "from get_project import handler"
   ]
  },
  {
   "cell_type": "code",
   "execution_count": null,
   "id": "2e4250ec",
   "metadata": {},
   "outputs": [],
   "source": [
    "test_event = {\n",
    "    \"queryStringParameters\": {\n",
    "    }\n",
    "}\n",
    "response = handler(event=test_event, context=_)"
   ]
  },
  {
   "cell_type": "code",
   "execution_count": null,
   "id": "71cba656",
   "metadata": {},
   "outputs": [],
   "source": [
    "assert response['statusCode'] == 200"
   ]
  },
  {
   "cell_type": "markdown",
   "id": "cbdedffe",
   "metadata": {},
   "source": [
    "# Deploy Lambda Handler"
   ]
  },
  {
   "cell_type": "code",
   "execution_count": null,
   "id": "d4ab30cf",
   "metadata": {},
   "outputs": [],
   "source": [
    "# !pip install --upgrade -r requirements.txt --target ./packages"
   ]
  },
  {
   "cell_type": "code",
   "execution_count": null,
   "id": "de987134",
   "metadata": {},
   "outputs": [],
   "source": [
    "BUCKET = os.environ['BUCKET']\n",
    "BUCKET_KEY = \"lambdas/get-project.zip\"\n",
    "FUNCTION_NAME = \"quack-tsln-get-project\"\n",
    "ENV_DYNAMODB = os.environ[\"DB_NAME\"]\n",
    "\n",
    "ENV_VARIABLES = {\n",
    "    'Variables': {\n",
    "        'BUCKET': BUCKET, \n",
    "        'DB_NAME': ENV_DYNAMODB, \n",
    "        \"LAMBDA_RUNTIME_ENV\": \"cloud\",\n",
    "        \"SFN_WORKFLOW_ARN\": os.environ[\"SFN_WORKFLOW_ARN\"]\n",
    "    }\n",
    "}\n",
    "CODE_INFO = {\"S3Bucket\": BUCKET, \"S3Key\": BUCKET_KEY}\n",
    "PACKAGE = BUCKET_KEY.replace(\"lambdas/\", \"\")"
   ]
  },
  {
   "cell_type": "code",
   "execution_count": null,
   "id": "e43da045",
   "metadata": {},
   "outputs": [],
   "source": [
    "build_package(PACKAGE)"
   ]
  },
  {
   "cell_type": "code",
   "execution_count": null,
   "id": "0f6c86a2",
   "metadata": {},
   "outputs": [],
   "source": [
    "upload_package(PACKAGE, BUCKET, BUCKET_KEY)"
   ]
  },
  {
   "cell_type": "code",
   "execution_count": null,
   "id": "bbd8bdb7",
   "metadata": {},
   "outputs": [],
   "source": [
    "DESC = \"Get selected or all projects from database\"\n",
    "MAIN_PYFILE = \"get_project\""
   ]
  },
  {
   "cell_type": "code",
   "execution_count": null,
   "id": "fbf4dbb4",
   "metadata": {},
   "outputs": [],
   "source": [
    "try:\n",
    "    deploy_pacakge(\n",
    "        function_name=FUNCTION_NAME, \n",
    "        handler=MAIN_PYFILE,\n",
    "        timeout=180, \n",
    "        desc=DESC, \n",
    "        env_vars=ENV_VARIABLES,\n",
    "        code_info=CODE_INFO,\n",
    "        memory_size=128\n",
    "    )\n",
    "except Exception as e:\n",
    "    print(e)\n",
    "    update_package_code(function_name=FUNCTION_NAME, bucket=BUCKET, key=BUCKET_KEY)"
   ]
  },
  {
   "cell_type": "code",
   "execution_count": null,
   "id": "90667ea9",
   "metadata": {},
   "outputs": [],
   "source": [
    "update_env_vars(function_name=FUNCTION_NAME, envvars=ENV_VARIABLES)"
   ]
  },
  {
   "cell_type": "code",
   "execution_count": null,
   "id": "c0a7195c",
   "metadata": {},
   "outputs": [],
   "source": [
    "# Create Query Parameter\n",
    "# \"&\".join([f\"{key}={value}\" for key, value in test_event[\"queryStringParameters\"].items()])"
   ]
  }
 ],
 "metadata": {
  "kernelspec": {
   "display_name": "Python 3 (ipykernel)",
   "language": "python",
   "name": "python3"
  },
  "language_info": {
   "codemirror_mode": {
    "name": "ipython",
    "version": 3
   },
   "file_extension": ".py",
   "mimetype": "text/x-python",
   "name": "python",
   "nbconvert_exporter": "python",
   "pygments_lexer": "ipython3",
   "version": "3.9.14"
  }
 },
 "nbformat": 4,
 "nbformat_minor": 5
}
