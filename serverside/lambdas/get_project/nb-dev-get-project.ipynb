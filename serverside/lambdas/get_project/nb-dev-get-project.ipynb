{
 "cells": [
  {
   "cell_type": "code",
   "execution_count": 4,
   "id": "e78856e3",
   "metadata": {},
   "outputs": [],
   "source": [
    "import json\n",
    "import boto3\n",
    "\n",
    "\n",
    "from microkit.utils import return_by_status_code, DecimalEncoder, load_env_vars\n",
    "from microkit.logger import get_logger\n",
    "from microkit.exceptions import (\n",
    "    create_response_from_exception, \n",
    "    create_response_from_param_exception,\n",
    "    ParameterMissingError\n",
    ")"
   ]
  },
  {
   "cell_type": "code",
   "execution_count": 5,
   "id": "d5ea4a51-4371-4623-bc09-fc3946252c73",
   "metadata": {},
   "outputs": [],
   "source": [
    "LOGGER = get_logger(str(__name__))\n",
    "ENV_VARS = load_env_vars()"
   ]
  },
  {
   "cell_type": "code",
   "execution_count": 6,
   "id": "2eef938b",
   "metadata": {},
   "outputs": [
    {
     "name": "stderr",
     "output_type": "stream",
     "text": [
      "2022-12-10 23:29:15 [INFO] botocore.credentials - Found credentials in shared credentials file: ~/.aws/credentials\n"
     ]
    }
   ],
   "source": [
    "SESSION = boto3.session.Session()\n",
    "DYNAMODB_RESOURCE = SESSION.resource('dynamodb')\n",
    "DYNAMO_TABLE = DYNAMODB_RESOURCE.Table(ENV_VARS.db)"
   ]
  },
  {
   "cell_type": "code",
   "execution_count": 7,
   "id": "1b3bd316",
   "metadata": {},
   "outputs": [],
   "source": [
    "def get_active_projects():\n",
    "    \"\"\"Get all active project by querying the Global Secondary Index\"\"\"\n",
    "    resp = DYNAMO_TABLE.query(\n",
    "        IndexName=\"ParentEntityIndex\",\n",
    "        KeyConditionExpression=\"parent_entity_type = (:val0)\",\n",
    "        FilterExpression=\"active = (:val1)\",\n",
    "        ExpressionAttributeValues={':val0': \"proj\", ':val1': True}\n",
    "        \n",
    "    )\n",
    "    if 'Items' in resp and len(resp['Items']) > 0:\n",
    "        status_code = resp[\"ResponseMetadata\"][\"HTTPStatusCode\"]\n",
    "        payload = {\"status\": status_code, \"data\": resp[\"Items\"]}\n",
    "        return return_by_status_code(payload)\n",
    "    payload = {\"status\" : 500, \"data\": []}\n",
    "    return return_by_status_code(payload)"
   ]
  },
  {
   "cell_type": "code",
   "execution_count": 8,
   "id": "baa7799f",
   "metadata": {},
   "outputs": [],
   "source": [
    "def handler(event, context):\n",
    "    \"\"\"Handler function for the API gateway\"\"\"\n",
    "    try:\n",
    "        resp = get_active_projects()\n",
    "        return {\"statusCode\": resp[\"status\"], \"body\": json.dumps(resp, cls=DecimalEncoder)}\n",
    "    except ParameterMissingError as e:\n",
    "        LOGGER.info(e)\n",
    "        return create_response_from_param_exception(exception=e, data=[])\n",
    "    except Exception as e:\n",
    "        LOGGER.info(e)\n",
    "        return create_response_from_exception(exception=e, data=[])"
   ]
  }
 ],
 "metadata": {
  "kernelspec": {
   "display_name": "Python 3 (ipykernel)",
   "language": "python",
   "name": "python3"
  },
  "language_info": {
   "codemirror_mode": {
    "name": "ipython",
    "version": 3
   },
   "file_extension": ".py",
   "mimetype": "text/x-python",
   "name": "python",
   "nbconvert_exporter": "python",
   "pygments_lexer": "ipython3",
   "version": "3.9.14"
  }
 },
 "nbformat": 4,
 "nbformat_minor": 5
}
