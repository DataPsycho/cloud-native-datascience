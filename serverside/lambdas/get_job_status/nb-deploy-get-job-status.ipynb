{
 "cells": [
  {
   "cell_type": "code",
   "execution_count": null,
   "id": "358907b1",
   "metadata": {},
   "outputs": [],
   "source": [
    "!./build.sh"
   ]
  },
  {
   "cell_type": "code",
   "execution_count": null,
   "id": "59e7d1d9",
   "metadata": {},
   "outputs": [],
   "source": [
    "!./format.sh\n",
    "!echo \"=== Testing Removing Unused Import and Varialbe ===\"\n",
    "!autoflake --in-place --remove-unused-variables --remove-all-unused-imports get_job_status.py"
   ]
  },
  {
   "cell_type": "code",
   "execution_count": null,
   "id": "f6e58d0a",
   "metadata": {},
   "outputs": [],
   "source": [
    "import os\n",
    "\n",
    "from deploykit import (\n",
    "    build_package,\n",
    "    upload_package, \n",
    "    deploy_pacakge, \n",
    "    update_package_code,\n",
    "    update_env_vars\n",
    ")"
   ]
  },
  {
   "cell_type": "markdown",
   "id": "b953be85",
   "metadata": {},
   "source": [
    "# Test Lambda"
   ]
  },
  {
   "cell_type": "code",
   "execution_count": null,
   "id": "80fa70af",
   "metadata": {},
   "outputs": [],
   "source": [
    "from get_job_status import handler"
   ]
  },
  {
   "cell_type": "code",
   "execution_count": null,
   "id": "454fb230-d995-4b95-84b1-5889a86d0663",
   "metadata": {},
   "outputs": [],
   "source": [
    "# Testing Should Failed on status\n",
    "# query = {\"pid\": os.environ[\"TEMP_PROJECT_NAME\"], \"status\": \"random_status\"}\n",
    "# test_event = {\"queryStringParameters\": query}\n",
    "# handler(event=test_event, context=_)\n",
    "\n",
    "# query = {\"pid\": os.environ[\"TEMP_PROJECT_NAME\"]}\n",
    "# test_event = {\"queryStringParameters\": query}\n",
    "# handler(event=test_event, context=_)\n",
    "\n",
    "# query = {\"pid\": os.environ[\"TEMP_PROJECT_NAME\"], \"status\": \"all\"}\n",
    "# test_event = {\"queryStringParameters\": query}\n",
    "# response = handler(event=test_event, context=_)"
   ]
  },
  {
   "cell_type": "code",
   "execution_count": null,
   "id": "5a1382dd",
   "metadata": {},
   "outputs": [],
   "source": [
    "test_event = {\"queryStringParameters\": {\"pid\": os.environ[\"TEMP_PROJECT_NAME\"], \"status\": \"completed\"}}\n",
    "response = handler(event=test_event, context=_)"
   ]
  },
  {
   "cell_type": "code",
   "execution_count": null,
   "id": "3105f336",
   "metadata": {},
   "outputs": [],
   "source": [
    "assert response['statusCode'] == 200 "
   ]
  },
  {
   "cell_type": "markdown",
   "id": "cde1d3fc",
   "metadata": {},
   "source": [
    "# Deploy Lambda Handler"
   ]
  },
  {
   "cell_type": "code",
   "execution_count": null,
   "id": "766d6472",
   "metadata": {},
   "outputs": [],
   "source": [
    "# !pip install --upgrade -r requirements.txt --target ./packages"
   ]
  },
  {
   "cell_type": "code",
   "execution_count": null,
   "id": "ec53c676",
   "metadata": {},
   "outputs": [],
   "source": [
    "BUCKET = os.environ['BUCKET']\n",
    "BUCKET_KEY = \"lambdas/get-job-status.zip\"\n",
    "FUNCTION_NAME = \"quack-tsln-get-job-status\"\n",
    "ENV_DYNAMODB = os.environ[\"DB_NAME\"]\n",
    "\n",
    "ENV_VARIABLES = {\n",
    "    'Variables': {\n",
    "        'BUCKET': BUCKET, \n",
    "        'DB_NAME': ENV_DYNAMODB, \n",
    "        \"LAMBDA_RUNTIME_ENV\": \"cloud\",\n",
    "        \"SFN_WORKFLOW_ARN\": os.environ[\"SFN_WORKFLOW_ARN\"]\n",
    "    }\n",
    "}\n",
    "CODE_INFO = {\"S3Bucket\": BUCKET, \"S3Key\": BUCKET_KEY}\n",
    "PACKAGE = BUCKET_KEY.replace(\"lambdas/\", \"\")"
   ]
  },
  {
   "cell_type": "code",
   "execution_count": null,
   "id": "de61bcdd",
   "metadata": {},
   "outputs": [],
   "source": [
    "build_package(PACKAGE)"
   ]
  },
  {
   "cell_type": "code",
   "execution_count": null,
   "id": "8c0fa1b3",
   "metadata": {},
   "outputs": [],
   "source": [
    "upload_package(PACKAGE, BUCKET, BUCKET_KEY)"
   ]
  },
  {
   "cell_type": "code",
   "execution_count": null,
   "id": "8e05f637",
   "metadata": {},
   "outputs": [],
   "source": [
    "DESC = \"Get Job Metadata by Project ID and Status\"\n",
    "MAIN_PYFILE = \"get_job_status\""
   ]
  },
  {
   "cell_type": "code",
   "execution_count": null,
   "id": "ddbef520",
   "metadata": {},
   "outputs": [],
   "source": [
    "try:\n",
    "    deploy_pacakge(\n",
    "        function_name=FUNCTION_NAME, \n",
    "        handler=MAIN_PYFILE,\n",
    "        timeout=180, \n",
    "        desc=DESC, \n",
    "        env_vars=ENV_VARIABLES,\n",
    "        code_info=CODE_INFO,\n",
    "        memory_size=128\n",
    "    )\n",
    "except Exception as e:\n",
    "    print(e)\n",
    "    update_package_code(function_name=FUNCTION_NAME, bucket=BUCKET, key=BUCKET_KEY)"
   ]
  },
  {
   "cell_type": "code",
   "execution_count": null,
   "id": "5c309942",
   "metadata": {},
   "outputs": [],
   "source": [
    "update_env_vars(function_name=FUNCTION_NAME, envvars=ENV_VARIABLES)"
   ]
  },
  {
   "cell_type": "code",
   "execution_count": null,
   "id": "95e101e0",
   "metadata": {},
   "outputs": [],
   "source": [
    "# Create Query Parameter\n",
    "# \"&\".join([f\"{key}={value}\" for key, value in test_event[\"queryStringParameters\"].items()])"
   ]
  }
 ],
 "metadata": {
  "kernelspec": {
   "display_name": "Python 3 (ipykernel)",
   "language": "python",
   "name": "python3"
  },
  "language_info": {
   "codemirror_mode": {
    "name": "ipython",
    "version": 3
   },
   "file_extension": ".py",
   "mimetype": "text/x-python",
   "name": "python",
   "nbconvert_exporter": "python",
   "pygments_lexer": "ipython3",
   "version": "3.9.14"
  }
 },
 "nbformat": 4,
 "nbformat_minor": 5
}
