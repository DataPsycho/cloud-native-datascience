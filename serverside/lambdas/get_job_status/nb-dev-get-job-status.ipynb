{
 "cells": [
  {
   "cell_type": "code",
   "execution_count": 4,
   "id": "f950ad1b",
   "metadata": {},
   "outputs": [],
   "source": [
    "import json\n",
    "import typing as t\n",
    "import boto3\n",
    "\n",
    "from microkit.utils import DecimalEncoder, return_by_status_code, load_env_vars\n",
    "from microkit.exceptions import DataBaseOperationError, ParameterMissingError, ParameterValueError\n",
    "from microkit.exceptions import query_parameter_ok, parameter_value_ok\n",
    "from microkit.logger import get_logger\n",
    "from microkit.exceptions import create_response_from_exception"
   ]
  },
  {
   "cell_type": "code",
   "execution_count": 5,
   "id": "507cea4d-9b69-4d2f-be5d-16086af93f81",
   "metadata": {},
   "outputs": [],
   "source": [
    "LOGGER = get_logger(str(__name__))\n",
    "ENV_VARS = load_env_vars()"
   ]
  },
  {
   "cell_type": "code",
   "execution_count": 6,
   "id": "c667d86a",
   "metadata": {},
   "outputs": [
    {
     "name": "stderr",
     "output_type": "stream",
     "text": [
      "2022-12-10 23:11:22 [INFO] botocore.credentials - Found credentials in shared credentials file: ~/.aws/credentials\n"
     ]
    }
   ],
   "source": [
    "SESSION = boto3.session.Session()\n",
    "DYNAMODB_RESOURCE = SESSION.resource('dynamodb')\n",
    "DYNAMO_TABLE = DYNAMODB_RESOURCE.Table(ENV_VARS.db)\n",
    "QUERY_LIST = ['running', 'completed', 'failed', 'rejected', \"all\"]"
   ]
  },
  {
   "cell_type": "code",
   "execution_count": 7,
   "id": "fcebadde",
   "metadata": {},
   "outputs": [],
   "source": [
    "def get_job_info(pid: str, status: str):\n",
    "    \"\"\"Get Job log by job status and project id\"\"\"\n",
    "    try:\n",
    "        parent_entity_pid = f\"job#{pid}\"\n",
    "        status_pattern = status\n",
    "        if status != \"all\":\n",
    "            resp = DYNAMO_TABLE.query(\n",
    "                IndexName=\"JobStatusIndex\",\n",
    "                KeyConditionExpression=\"parent_entity_pid = (:val0) AND begins_with (status_jid, :val1)\",\n",
    "                ExpressionAttributeValues={\":val0\": parent_entity_pid, \":val1\": status_pattern}\n",
    "            )\n",
    "            return {\"status\": 200, \"data\": resp[\"Items\"]}\n",
    "        else:\n",
    "            resp = DYNAMO_TABLE.query(\n",
    "                IndexName=\"JobStatusIndex\",\n",
    "                KeyConditionExpression=\"parent_entity_pid = (:val0)\",\n",
    "                ExpressionAttributeValues={\":val0\": parent_entity_pid}\n",
    "            )\n",
    "            return {\"status\": 200, \"data\": resp[\"Items\"]}\n",
    "    except Exception as e:\n",
    "        LOGGER.printlog(e)\n",
    "        raise DataBaseOperationError(\"Resoure not found in the database\")"
   ]
  },
  {
   "cell_type": "code",
   "execution_count": 8,
   "id": "b663c0d0",
   "metadata": {},
   "outputs": [],
   "source": [
    "def process_request(payload: t.Dict) -> t.Dict:\n",
    "    \"\"\"Then acting main function which handle the whole process from the payload inputs\"\"\"\n",
    "    # Fill It up with your passion\n",
    "    pid = payload[\"pid\"]\n",
    "    status = payload[\"status\"]\n",
    "    job_info = get_job_info(pid=pid, status=status)\n",
    "    return return_by_status_code(job_info)"
   ]
  },
  {
   "cell_type": "code",
   "execution_count": 9,
   "id": "c703ff75",
   "metadata": {},
   "outputs": [],
   "source": [
    "def handler(event, context):\n",
    "    \"\"\"Handler function for the API gateway\"\"\"\n",
    "    param_list = [\"pid\", \"status\"]\n",
    "    query_param = event.get(\"queryStringParameters\", {})\n",
    "    try:\n",
    "        query_parameter_ok(param_list, query_param)\n",
    "        parameter_value_ok(QUERY_LIST, query_param[\"status\"])\n",
    "        resp = process_request(payload=query_param)\n",
    "        return {\"statusCode\": resp[\"status\"], \"body\": json.dumps(resp, cls=DecimalEncoder)}\n",
    "    except ParameterMissingError as e:\n",
    "        return create_response_from_exception(exception=e, data=[])\n",
    "    except ParameterValueError as e:\n",
    "        return create_response_from_exception(exception=e, data=[])\n",
    "    except DataBaseOperationError as e:\n",
    "        return create_response_from_exception(exception=e, data=[])\n",
    "    except Exception as e:\n",
    "        return create_response_from_exception(exception=e, data=[])"
   ]
  }
 ],
 "metadata": {
  "kernelspec": {
   "display_name": "Python 3 (ipykernel)",
   "language": "python",
   "name": "python3"
  },
  "language_info": {
   "codemirror_mode": {
    "name": "ipython",
    "version": 3
   },
   "file_extension": ".py",
   "mimetype": "text/x-python",
   "name": "python",
   "nbconvert_exporter": "python",
   "pygments_lexer": "ipython3",
   "version": "3.9.14"
  }
 },
 "nbformat": 4,
 "nbformat_minor": 5
}
