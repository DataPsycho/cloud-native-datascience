{
 "cells": [
  {
   "cell_type": "code",
   "execution_count": null,
   "id": "2547d2c1",
   "metadata": {},
   "outputs": [],
   "source": [
    "import boto3\n",
    "import yaml\n",
    "from pprint import pprint\n",
    "import json\n",
    "from dotenv import load_dotenv\n",
    "import os\n",
    "from pathlib import Path"
   ]
  },
  {
   "cell_type": "code",
   "execution_count": null,
   "id": "e1384226-5429-4e53-b4eb-fa7c5a2f3e14",
   "metadata": {},
   "outputs": [],
   "source": [
    "ENV_PATH = Path().absolute().parent.parent.joinpath('.env')"
   ]
  },
  {
   "cell_type": "code",
   "execution_count": null,
   "id": "ebff0c31",
   "metadata": {},
   "outputs": [],
   "source": [
    "assert load_dotenv(str(ENV_PATH))"
   ]
  },
  {
   "cell_type": "markdown",
   "id": "123350f3",
   "metadata": {},
   "source": [
    "# Delete Table"
   ]
  },
  {
   "cell_type": "code",
   "execution_count": null,
   "id": "92b30c27",
   "metadata": {},
   "outputs": [],
   "source": [
    "TABLE_NAME = os.environ[\"TABLE\"]"
   ]
  },
  {
   "cell_type": "code",
   "execution_count": null,
   "id": "a3c18717",
   "metadata": {},
   "outputs": [],
   "source": [
    "def read_yaml_to_dict(path: str):\n",
    "    with open(path, 'r') as stream:\n",
    "        try:\n",
    "            return yaml.safe_load(stream)\n",
    "        except yaml.YAMLError as exc:\n",
    "            print(exc)"
   ]
  },
  {
   "cell_type": "code",
   "execution_count": null,
   "id": "ef26410b",
   "metadata": {},
   "outputs": [],
   "source": [
    "db_schema = read_yaml_to_dict('./db-schema.yaml')"
   ]
  },
  {
   "cell_type": "code",
   "execution_count": null,
   "id": "d39c5bd9",
   "metadata": {},
   "outputs": [],
   "source": [
    "# pprint(db_schema)"
   ]
  },
  {
   "cell_type": "code",
   "execution_count": null,
   "id": "e000644f",
   "metadata": {},
   "outputs": [],
   "source": [
    "def create_table(name: str):\n",
    "    dynamodb = boto3.client('dynamodb')\n",
    "    resp = dynamodb.create_table(\n",
    "        TableName=name,\n",
    "        AttributeDefinitions=db_schema['AttributeDefinitions'],\n",
    "        KeySchema=db_schema['KeySchema'],\n",
    "        GlobalSecondaryIndexes=db_schema['GlobalSecondaryIndexes'],\n",
    "        ProvisionedThroughput=db_schema['ProvisionedThroughput'],\n",
    "        Tags=db_schema['Tags']\n",
    "    )\n",
    "    pprint(resp)"
   ]
  },
  {
   "cell_type": "code",
   "execution_count": null,
   "id": "de85de24",
   "metadata": {},
   "outputs": [],
   "source": [
    "def list_all_tables():\n",
    "    db = boto3.resource('dynamodb')\n",
    "    tables = list(db.tables.all())\n",
    "    print(tables)\n",
    "    \n",
    "list_all_tables()"
   ]
  },
  {
   "cell_type": "markdown",
   "id": "f11245b9-c60c-42e3-aaf6-d541d1922bcb",
   "metadata": {},
   "source": [
    "# Create Table"
   ]
  },
  {
   "cell_type": "code",
   "execution_count": null,
   "id": "8f87f283-0cd9-4224-98dd-5e7b93683163",
   "metadata": {},
   "outputs": [],
   "source": [
    "create_table(TABLE_NAME)"
   ]
  },
  {
   "cell_type": "markdown",
   "id": "19b54690",
   "metadata": {},
   "source": [
    "## Delete Example\n",
    "Careful running that Function !\n",
    "```python\n",
    "def delete_table(name: str):\n",
    "    dynamodb = boto3.resource('dynamodb')\n",
    "    table = dynamodb.Table(name)\n",
    "    table.delete()\n",
    "    \n",
    "delete_table('<>')\n",
    "```"
   ]
  },
  {
   "cell_type": "markdown",
   "id": "1605f39a",
   "metadata": {},
   "source": [
    "## Update Table Example\n",
    "\n",
    "```python\n",
    "# Add new Attribute\n",
    "dynamodb.update_table(\n",
    "    TableName=TABLE_NAME,\n",
    "    AttributeDefinitions=[\n",
    "        {\n",
    "            \"AttributeName\": \"parent_entity_pid\",\n",
    "            \"AttributeType\": \"S\"\n",
    "        },\n",
    "        {\n",
    "            \"AttributeName\": \"status_jid\",\n",
    "            \"AttributeType\": \"S\"\n",
    "        }\n",
    "    ],\n",
    "    GlobalSecondaryIndexUpdates=[\n",
    "        {\"Create\": db_schema[\"GlobalSecondaryIndexes\"][1]}\n",
    "    ]\n",
    ")\n",
    "\n",
    "# Delete Attribute\n",
    "dynamodb.update_table(\n",
    "    TableName=TABLE_NAME,\n",
    "    GlobalSecondaryIndexUpdates=[{\"Delete\": {\"IndexName\": \"JobStatusIndex\"}}]\n",
    ")\n",
    "```"
   ]
  }
 ],
 "metadata": {
  "kernelspec": {
   "display_name": "Python 3 (ipykernel)",
   "language": "python",
   "name": "python3"
  },
  "language_info": {
   "codemirror_mode": {
    "name": "ipython",
    "version": 3
   },
   "file_extension": ".py",
   "mimetype": "text/x-python",
   "name": "python",
   "nbconvert_exporter": "python",
   "pygments_lexer": "ipython3",
   "version": "3.9.13"
  }
 },
 "nbformat": 4,
 "nbformat_minor": 5
}
